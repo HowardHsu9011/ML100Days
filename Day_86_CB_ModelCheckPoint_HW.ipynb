{
 "cells": [
  {
   "cell_type": "markdown",
   "metadata": {},
   "source": [
    "## Work\n",
    "1. 試比較 save_best_only 與否的差異\n",
    "2. 請僅存入將 save_weights_only 設定為 True, 並嘗試 reset ipynb 並將模型與權重重新建回並預測 x_test"
   ]
  },
  {
   "cell_type": "code",
   "execution_count": 1,
   "metadata": {},
   "outputs": [],
   "source": [
    "import os\n",
    "import keras\n",
    "from keras.datasets import cifar10\n",
    "\n",
    "# Disable GPU\n",
    "os.environ[\"CUDA_VISIBLE_DEVICES\"] = \"\""
   ]
  },
  {
   "cell_type": "code",
   "execution_count": 2,
   "metadata": {},
   "outputs": [],
   "source": [
    "train, test = keras.datasets.cifar10.load_data()"
   ]
  },
  {
   "cell_type": "code",
   "execution_count": 3,
   "metadata": {},
   "outputs": [],
   "source": [
    "## 資料前處理\n",
    "def preproc_x(x, flatten=True):\n",
    "    x = x / 255.\n",
    "    if flatten:\n",
    "        x = x.reshape((len(x), -1))\n",
    "    return x\n",
    "\n",
    "def preproc_y(y, num_classes=10):\n",
    "    if y.shape[-1] == 1:\n",
    "        y = keras.utils.np_utils.to_categorical(y, num_classes)\n",
    "    return y    "
   ]
  },
  {
   "cell_type": "code",
   "execution_count": 4,
   "metadata": {},
   "outputs": [],
   "source": [
    "x_train, y_train = train\n",
    "x_test, y_test = test\n",
    "\n",
    "# Preproc the inputs\n",
    "x_train = preproc_x(x_train)\n",
    "x_test = preproc_x(x_test)\n",
    "\n",
    "# Preprc the outputs\n",
    "y_train = preproc_y(y_train)\n",
    "y_test = preproc_y(y_test)"
   ]
  },
  {
   "cell_type": "code",
   "execution_count": 5,
   "metadata": {},
   "outputs": [],
   "source": [
    "from keras.layers import BatchNormalization\n",
    "\n",
    "\"\"\"\n",
    "建立神經網路，並加入 BN layer\n",
    "\"\"\"\n",
    "def build_mlp(input_shape, output_units=10, num_neurons=[512, 256, 128]):\n",
    "    input_layer = keras.layers.Input(input_shape)\n",
    "    \n",
    "    for i, n_units in enumerate(num_neurons):\n",
    "        if i == 0:\n",
    "            x = keras.layers.Dense(units=n_units, \n",
    "                                   activation=\"relu\", \n",
    "                                   name=\"hidden_layer\"+str(i+1))(input_layer)\n",
    "            x = BatchNormalization()(x)\n",
    "        else:\n",
    "            x = keras.layers.Dense(units=n_units, \n",
    "                                   activation=\"relu\", \n",
    "                                   name=\"hidden_layer\"+str(i+1))(x)\n",
    "            x = BatchNormalization()(x)\n",
    "    \n",
    "    out = keras.layers.Dense(units=output_units, activation=\"softmax\", name=\"output\")(x)\n",
    "    \n",
    "    model = keras.models.Model(inputs=[input_layer], outputs=[out])\n",
    "    return model"
   ]
  },
  {
   "cell_type": "code",
   "execution_count": 9,
   "metadata": {},
   "outputs": [],
   "source": [
    "## 超參數設定\n",
    "LEARNING_RATE = 1e-3\n",
    "EPOCHS = 50\n",
    "BATCH_SIZE = 1024\n",
    "MOMENTUM = 0.95"
   ]
  },
  {
   "cell_type": "code",
   "execution_count": 19,
   "metadata": {},
   "outputs": [
    {
     "name": "stdout",
     "output_type": "stream",
     "text": [
      "Model: \"model_9\"\n",
      "_________________________________________________________________\n",
      " Layer (type)                Output Shape              Param #   \n",
      "=================================================================\n",
      " input_10 (InputLayer)       [(None, 3072)]            0         \n",
      "                                                                 \n",
      " hidden_layer1 (Dense)       (None, 512)               1573376   \n",
      "                                                                 \n",
      " batch_normalization_27 (Bat  (None, 512)              2048      \n",
      " chNormalization)                                                \n",
      "                                                                 \n",
      " hidden_layer2 (Dense)       (None, 256)               131328    \n",
      "                                                                 \n",
      " batch_normalization_28 (Bat  (None, 256)              1024      \n",
      " chNormalization)                                                \n",
      "                                                                 \n",
      " hidden_layer3 (Dense)       (None, 128)               32896     \n",
      "                                                                 \n",
      " batch_normalization_29 (Bat  (None, 128)              512       \n",
      " chNormalization)                                                \n",
      "                                                                 \n",
      " output (Dense)              (None, 10)                1290      \n",
      "                                                                 \n",
      "=================================================================\n",
      "Total params: 1,742,474\n",
      "Trainable params: 1,740,682\n",
      "Non-trainable params: 1,792\n",
      "_________________________________________________________________\n",
      "Epoch 1/50\n",
      "49/49 [==============================] - 3s 57ms/step - loss: 2.2378 - accuracy: 0.2635 - val_loss: 2.1207 - val_accuracy: 0.2032\n",
      "Epoch 2/50\n",
      "49/49 [==============================] - 3s 54ms/step - loss: 1.7387 - accuracy: 0.3941 - val_loss: 1.9648 - val_accuracy: 0.2824\n",
      "Epoch 3/50\n",
      "49/49 [==============================] - 3s 61ms/step - loss: 1.6152 - accuracy: 0.4366 - val_loss: 1.8362 - val_accuracy: 0.3494\n",
      "Epoch 4/50\n",
      "49/49 [==============================] - 3s 58ms/step - loss: 1.5448 - accuracy: 0.4591 - val_loss: 1.7085 - val_accuracy: 0.4103\n",
      "Epoch 5/50\n",
      "49/49 [==============================] - 3s 51ms/step - loss: 1.4913 - accuracy: 0.4824 - val_loss: 1.6361 - val_accuracy: 0.4316\n",
      "Epoch 6/50\n",
      "49/49 [==============================] - 2s 50ms/step - loss: 1.4464 - accuracy: 0.4966 - val_loss: 1.5892 - val_accuracy: 0.4400\n",
      "Epoch 7/50\n",
      "49/49 [==============================] - 4s 82ms/step - loss: 1.4100 - accuracy: 0.5084 - val_loss: 1.5468 - val_accuracy: 0.4584\n",
      "Epoch 8/50\n",
      "49/49 [==============================] - 4s 74ms/step - loss: 1.3774 - accuracy: 0.5203 - val_loss: 1.5221 - val_accuracy: 0.4651\n",
      "Epoch 9/50\n",
      "49/49 [==============================] - 3s 70ms/step - loss: 1.3461 - accuracy: 0.5330 - val_loss: 1.5180 - val_accuracy: 0.4613\n",
      "Epoch 10/50\n",
      "49/49 [==============================] - 3s 54ms/step - loss: 1.3162 - accuracy: 0.5440 - val_loss: 1.5077 - val_accuracy: 0.4650\n",
      "Epoch 11/50\n",
      "49/49 [==============================] - 3s 52ms/step - loss: 1.2888 - accuracy: 0.5536 - val_loss: 1.4942 - val_accuracy: 0.4702\n",
      "Epoch 12/50\n",
      "49/49 [==============================] - 3s 55ms/step - loss: 1.2644 - accuracy: 0.5629 - val_loss: 1.4864 - val_accuracy: 0.4740\n",
      "Epoch 13/50\n",
      "49/49 [==============================] - 3s 57ms/step - loss: 1.2392 - accuracy: 0.5708 - val_loss: 1.4709 - val_accuracy: 0.4838\n",
      "Epoch 14/50\n",
      "49/49 [==============================] - 3s 54ms/step - loss: 1.2149 - accuracy: 0.5801 - val_loss: 1.4749 - val_accuracy: 0.4798\n",
      "Epoch 15/50\n",
      "49/49 [==============================] - 2s 48ms/step - loss: 1.1897 - accuracy: 0.5903 - val_loss: 1.4651 - val_accuracy: 0.4876\n",
      "Epoch 16/50\n",
      "49/49 [==============================] - 3s 54ms/step - loss: 1.1675 - accuracy: 0.5982 - val_loss: 1.4939 - val_accuracy: 0.4795\n",
      "Epoch 17/50\n",
      "49/49 [==============================] - 3s 64ms/step - loss: 1.1458 - accuracy: 0.6066 - val_loss: 1.4645 - val_accuracy: 0.4862\n",
      "Epoch 18/50\n",
      "49/49 [==============================] - 4s 72ms/step - loss: 1.1231 - accuracy: 0.6157 - val_loss: 1.4648 - val_accuracy: 0.4830\n",
      "Epoch 19/50\n",
      "49/49 [==============================] - 3s 70ms/step - loss: 1.1007 - accuracy: 0.6244 - val_loss: 1.4703 - val_accuracy: 0.4882\n",
      "Epoch 20/50\n",
      "49/49 [==============================] - 4s 72ms/step - loss: 1.0791 - accuracy: 0.6316 - val_loss: 1.4731 - val_accuracy: 0.4900\n",
      "Epoch 21/50\n",
      "49/49 [==============================] - 4s 78ms/step - loss: 1.0566 - accuracy: 0.6412 - val_loss: 1.4670 - val_accuracy: 0.4894\n",
      "Epoch 22/50\n",
      "49/49 [==============================] - 4s 75ms/step - loss: 1.0371 - accuracy: 0.6491 - val_loss: 1.4610 - val_accuracy: 0.4934\n",
      "Epoch 23/50\n",
      "49/49 [==============================] - 4s 73ms/step - loss: 1.0155 - accuracy: 0.6550 - val_loss: 1.4855 - val_accuracy: 0.4882\n",
      "Epoch 24/50\n",
      "49/49 [==============================] - 4s 72ms/step - loss: 0.9952 - accuracy: 0.6634 - val_loss: 1.4747 - val_accuracy: 0.4934\n",
      "Epoch 25/50\n",
      "49/49 [==============================] - 4s 73ms/step - loss: 0.9740 - accuracy: 0.6721 - val_loss: 1.4795 - val_accuracy: 0.4908\n",
      "Epoch 26/50\n",
      "49/49 [==============================] - 3s 71ms/step - loss: 0.9546 - accuracy: 0.6793 - val_loss: 1.4713 - val_accuracy: 0.4940\n",
      "Epoch 27/50\n",
      "49/49 [==============================] - 4s 73ms/step - loss: 0.9325 - accuracy: 0.6886 - val_loss: 1.4899 - val_accuracy: 0.4878\n",
      "Epoch 28/50\n",
      "49/49 [==============================] - 4s 72ms/step - loss: 0.9121 - accuracy: 0.6955 - val_loss: 1.4736 - val_accuracy: 0.4947\n",
      "Epoch 29/50\n",
      "49/49 [==============================] - 3s 69ms/step - loss: 0.8934 - accuracy: 0.7030 - val_loss: 1.4822 - val_accuracy: 0.4998\n",
      "Epoch 30/50\n",
      "49/49 [==============================] - 3s 71ms/step - loss: 0.8726 - accuracy: 0.7113 - val_loss: 1.4863 - val_accuracy: 0.4966\n",
      "Epoch 31/50\n",
      "49/49 [==============================] - 3s 70ms/step - loss: 0.8535 - accuracy: 0.7200 - val_loss: 1.4912 - val_accuracy: 0.4963\n",
      "Epoch 32/50\n",
      "49/49 [==============================] - 3s 70ms/step - loss: 0.8338 - accuracy: 0.7257 - val_loss: 1.5094 - val_accuracy: 0.4902\n",
      "Epoch 33/50\n",
      "49/49 [==============================] - 4s 72ms/step - loss: 0.8143 - accuracy: 0.7337 - val_loss: 1.5063 - val_accuracy: 0.4963\n",
      "Epoch 34/50\n",
      "49/49 [==============================] - 3s 71ms/step - loss: 0.7955 - accuracy: 0.7415 - val_loss: 1.5123 - val_accuracy: 0.4955\n",
      "Epoch 35/50\n",
      "49/49 [==============================] - 3s 65ms/step - loss: 0.7760 - accuracy: 0.7495 - val_loss: 1.5201 - val_accuracy: 0.4955\n",
      "Epoch 36/50\n",
      "49/49 [==============================] - 3s 71ms/step - loss: 0.7577 - accuracy: 0.7557 - val_loss: 1.5418 - val_accuracy: 0.4970\n",
      "Epoch 37/50\n",
      "49/49 [==============================] - 3s 67ms/step - loss: 0.7382 - accuracy: 0.7639 - val_loss: 1.5319 - val_accuracy: 0.4950\n",
      "Epoch 38/50\n",
      "49/49 [==============================] - 4s 80ms/step - loss: 0.7196 - accuracy: 0.7717 - val_loss: 1.5771 - val_accuracy: 0.4877\n",
      "Epoch 39/50\n",
      "49/49 [==============================] - 4s 76ms/step - loss: 0.7031 - accuracy: 0.7775 - val_loss: 1.5791 - val_accuracy: 0.4965\n",
      "Epoch 40/50\n",
      "49/49 [==============================] - 4s 76ms/step - loss: 0.6818 - accuracy: 0.7869 - val_loss: 1.5691 - val_accuracy: 0.4932\n",
      "Epoch 41/50\n",
      "49/49 [==============================] - 3s 62ms/step - loss: 0.6655 - accuracy: 0.7924 - val_loss: 1.5775 - val_accuracy: 0.4949\n",
      "Epoch 42/50\n",
      "49/49 [==============================] - 4s 78ms/step - loss: 0.6473 - accuracy: 0.8011 - val_loss: 1.5907 - val_accuracy: 0.4931\n",
      "Epoch 43/50\n",
      "49/49 [==============================] - 4s 76ms/step - loss: 0.6291 - accuracy: 0.8083 - val_loss: 1.6048 - val_accuracy: 0.4926\n",
      "Epoch 44/50\n",
      "49/49 [==============================] - 4s 75ms/step - loss: 0.6109 - accuracy: 0.8147 - val_loss: 1.6225 - val_accuracy: 0.4912\n",
      "Epoch 45/50\n",
      "49/49 [==============================] - 4s 76ms/step - loss: 0.5930 - accuracy: 0.8215 - val_loss: 1.6317 - val_accuracy: 0.4874\n",
      "Epoch 46/50\n",
      "49/49 [==============================] - 4s 73ms/step - loss: 0.5772 - accuracy: 0.8281 - val_loss: 1.6459 - val_accuracy: 0.4874\n"
     ]
    },
    {
     "name": "stdout",
     "output_type": "stream",
     "text": [
      "Epoch 47/50\n",
      "49/49 [==============================] - 4s 72ms/step - loss: 0.5586 - accuracy: 0.8355 - val_loss: 1.6532 - val_accuracy: 0.4903\n",
      "Epoch 48/50\n",
      "49/49 [==============================] - 4s 72ms/step - loss: 0.5414 - accuracy: 0.8440 - val_loss: 1.6705 - val_accuracy: 0.4893\n",
      "Epoch 49/50\n",
      "49/49 [==============================] - 4s 74ms/step - loss: 0.5271 - accuracy: 0.8481 - val_loss: 1.7071 - val_accuracy: 0.4940\n",
      "Epoch 50/50\n",
      "49/49 [==============================] - 4s 76ms/step - loss: 0.5104 - accuracy: 0.8553 - val_loss: 1.6954 - val_accuracy: 0.4868\n",
      "313/313 [==============================] - 2s 4ms/step - loss: 1.4610 - accuracy: 0.4934\n",
      "1.4609547853469849 0.4934000074863434\n"
     ]
    }
   ],
   "source": [
    "\"\"\"\n",
    "# 載入 Callbacks, 並將監控目標設為 validation loss, 且只存最佳參數時的模型\n",
    "\n",
    "參數說明：\n",
    "filepath: 儲存模型的路徑與檔名\n",
    "mointor: 以什麼指標作為判斷標準\n",
    "save_best_only: 是否只要儲存最好的\n",
    "\n",
    "\n",
    "\"\"\"\n",
    "from keras.callbacks import ModelCheckpoint\n",
    "import tensorflow as tf\n",
    "\n",
    "model_ckpt = ModelCheckpoint(filepath=\"./tmp.h5\", \n",
    "                             monitor=\"val_loss\", \n",
    "                             save_best_only=True)\n",
    "\n",
    "# 導入optimizer並開始訓練\n",
    "model = build_mlp(input_shape=x_train.shape[1:])\n",
    "model.summary()\n",
    "optimizer = tf.keras.optimizers.SGD(lr=LEARNING_RATE, nesterov=True, momentum=MOMENTUM)\n",
    "model.compile(loss=\"categorical_crossentropy\", metrics=[\"accuracy\"], optimizer=optimizer)\n",
    "\n",
    "model.fit(x_train, y_train, \n",
    "          epochs=EPOCHS, \n",
    "          batch_size=BATCH_SIZE, \n",
    "          validation_data=(x_test, y_test), \n",
    "          shuffle=True,\n",
    "          callbacks=[model_ckpt]\n",
    "         )\n",
    "\n",
    "# Collect results\n",
    "train_loss = model.history.history[\"loss\"]\n",
    "valid_loss = model.history.history[\"val_loss\"]\n",
    "train_acc = model.history.history[\"accuracy\"]\n",
    "valid_acc = model.history.history[\"val_accuracy\"]\n",
    "\n",
    "pred_final = model.predict(x_test)\n",
    "\n",
    "# Load back\n",
    "model = keras.models.load_model(\"./tmp.h5\")\n",
    "pre_loadback = model.predict(x_test)\n",
    "loss_loadback, acc_loadback = model.evaluate(x_test, y_test)\n",
    "print(loss_loadback, acc_loadback)"
   ]
  },
  {
   "cell_type": "code",
   "execution_count": 25,
   "metadata": {},
   "outputs": [
    {
     "name": "stdout",
     "output_type": "stream",
     "text": [
      "Accuracy of final weights: 0.487\n",
      "Accuracy of Best weights: 0.493\n"
     ]
    }
   ],
   "source": [
    "\n",
    "from sklearn.metrics import accuracy_score\n",
    "\n",
    "final_model_acc = accuracy_score(y_true=y_test.argmax(axis=1), y_pred=pred_final.argmax(axis=1))\n",
    "loadback_acc = accuracy_score(y_true=y_test.argmax(axis=1), y_pred=pre_loadback.argmax(axis=1))\n",
    "\n",
    "print('Accuracy of final weights: %.3f' %final_model_acc)\n",
    "print('Accuracy of Best weights: %.3f' %loadback_acc)\n"
   ]
  },
  {
   "cell_type": "code",
   "execution_count": 26,
   "metadata": {
    "scrolled": true
   },
   "outputs": [
    {
     "data": {
      "image/png": "[encoded data removed]",
      "text/plain": [
       "<Figure size 432x288 with 1 Axes>"
      ]
     },
     "metadata": {
      "needs_background": "light"
     },
     "output_type": "display_data"
    },
    {
     "data": {
      "image/png": "[encoded data removed]",
      "text/plain": [
       "<Figure size 432x288 with 1 Axes>"
      ]
     },
     "metadata": {
      "needs_background": "light"
     },
     "output_type": "display_data"
    }
   ],
   "source": [
    "import matplotlib.pyplot as plt\n",
    "%matplotlib inline\n",
    "\n",
    "plt.plot(range(len(train_loss)), train_loss, label=\"train loss\")\n",
    "plt.plot(range(len(valid_loss)), valid_loss, label=\"valid loss\")\n",
    "plt.hlines(y=loss_loadback, xmin=0, xmax=len(train_loss), colors='r', linestyles='--')\n",
    "plt.legend()\n",
    "plt.title(\"Loss\")\n",
    "plt.show()\n",
    "\n",
    "plt.plot(range(len(train_acc)), train_acc, label=\"train accuracy\")\n",
    "plt.plot(range(len(valid_acc)), valid_acc, label=\"valid accuracy\")\n",
    "plt.hlines(y=acc_loadback, xmin=0, xmax=len(train_loss), colors='r', linestyles='--')\n",
    "plt.legend()\n",
    "plt.title(\"Accuracy\")\n",
    "plt.show()"
   ]
  },
  {
   "cell_type": "markdown",
   "metadata": {},
   "source": [
    "# 作業1\n",
    "1. save_best_only =False時，Vaild Loss=1.67，不像範例是1.48多，沒抓到最好的模型\n",
    "2. 有用save_best_only = True時，Vaild Loss=1.44。\n",
    "3. 要用ModelCheckPoint就要用True，否則存不到最好的權重就沒意義了\n",
    "# 作業2\n",
    "1. 比較Final 和 Best的Accuracy 差了一些，訓練到最後不一定比較好\n"
   ]
  },
  {
   "cell_type": "code",
   "execution_count": null,
   "metadata": {},
   "outputs": [],
   "source": []
  }
 ],
 "metadata": {
  "kernelspec": {
   "display_name": "Python 3",
   "language": "python",
   "name": "python3"
  },
  "language_info": {
   "codemirror_mode": {
    "name": "ipython",
    "version": 3
   },
   "file_extension": ".py",
   "mimetype": "text/x-python",
   "name": "python",
   "nbconvert_exporter": "python",
   "pygments_lexer": "ipython3",
   "version": "3.8.8"
  }
 },
 "nbformat": 4,
 "nbformat_minor": 2
}
