{
 "cells": [
  {
   "cell_type": "markdown",
   "metadata": {},
   "source": [
    "## [作業重點]\n",
    "確保你了解隨機森林模型中每個超參數的意義，並觀察調整超參數對結果的影響"
   ]
  },
  {
   "cell_type": "markdown",
   "metadata": {},
   "source": [
    "## 作業\n",
    "\n",
    "1. 試著調整 RandomForestClassifier(...) 中的參數，並觀察是否會改變結果？\n",
    "2. 改用其他資料集 (boston, wine)，並與回歸模型與決策樹的結果進行比較"
   ]
  },
  {
   "cell_type": "markdown",
   "metadata": {},
   "source": [
    "## Use DecisionTreeRegressor at BOSTON"
   ]
  },
  {
   "cell_type": "code",
   "execution_count": 1,
   "metadata": {},
   "outputs": [],
   "source": [
    "from sklearn import datasets, metrics\n",
    "from sklearn.ensemble import RandomForestClassifier, RandomForestRegressor\n",
    "from sklearn.tree import DecisionTreeClassifier, DecisionTreeRegressor\n",
    "from sklearn.model_selection import train_test_split"
   ]
  },
  {
   "cell_type": "code",
   "execution_count": 2,
   "metadata": {},
   "outputs": [],
   "source": [
    "# 讀取Boston資料集\n",
    "boston = datasets.load_boston()\n",
    "\n",
    "# 將資料切分成訓練集/測試集\n",
    "x_train, x_test, y_train, y_test = train_test_split(boston.data, boston.target, test_size= 0.2 , random_state= 1)\n",
    "\n",
    "# 載入隨機森林模型，使用50顆樹，每顆樹的最大深度為10\n",
    "dtr = RandomForestRegressor(n_estimators=50,  max_depth=10, random_state = 2)\n",
    "\n",
    "# 將訓練集丟進去模型運練\n",
    "dtr.fit(x_train, y_train)\n",
    "\n",
    "# 以測試集x_test丟入模型預測目標值\n",
    "y_pred = dtr.predict(x_test)"
   ]
  },
  {
   "cell_type": "code",
   "execution_count": 3,
   "metadata": {},
   "outputs": [
    {
     "name": "stdout",
     "output_type": "stream",
     "text": [
      "MSE =  7.778141975190692\n"
     ]
    }
   ],
   "source": [
    "# 因為是回歸問題，印出mean_squared_error\n",
    "# 調整模型參數發現，max_depth越大 MSE越小（但超過10改變幅度就很小）\n",
    "# 調整模型參數發現，n_estimators越大 MSE越小（但超過50顆樹沒有比較好）\n",
    "print('MSE = ', metrics.mean_squared_error(y_test, y_pred))"
   ]
  },
  {
   "cell_type": "code",
   "execution_count": 4,
   "metadata": {},
   "outputs": [
    {
     "name": "stdout",
     "output_type": "stream",
     "text": [
      "MSE =  33.320392156862745\n"
     ]
    }
   ],
   "source": [
    "# 用決策樹做一次，比較結果\n",
    "# 果然隨機森林的MSE比較小，結果更好\n",
    "boston = datasets.load_boston()\n",
    "x_train, x_test, y_train, y_test = train_test_split(boston.data, boston.target, test_size= 0.2 , random_state= 1)\n",
    "clf = DecisionTreeRegressor(random_state = 2)\n",
    "clf.fit(x_train, y_train)\n",
    "y_pred = clf.predict(x_test)\n",
    "print('MSE = ', metrics.mean_squared_error(y_test, y_pred))"
   ]
  },
  {
   "cell_type": "markdown",
   "metadata": {},
   "source": [
    "## Use RandomForestClassifier at WINE"
   ]
  },
  {
   "cell_type": "code",
   "execution_count": 5,
   "metadata": {},
   "outputs": [],
   "source": [
    "# 讀取wine資料集\n",
    "wine = datasets.load_wine()\n",
    "\n",
    "# 將資料切分成訓練集/測試集\n",
    "x_train, x_test, y_train, y_test = train_test_split(wine.data, wine.target, test_size= 0.2 , random_state= 1)\n",
    "\n",
    "# 載入隨機森林模型，使用10顆樹，每顆樹的最大深度為5\n",
    "rfc = RandomForestClassifier(n_estimators=10,  max_depth=5, random_state = 2)\n",
    "\n",
    "# 將訓練集丟進去模型運練\n",
    "rfc.fit(x_train, y_train)\n",
    "\n",
    "# 以測試集x_test丟入模型預測目標值\n",
    "y_pred = rfc.predict(x_test)"
   ]
  },
  {
   "cell_type": "code",
   "execution_count": 6,
   "metadata": {},
   "outputs": [
    {
     "name": "stdout",
     "output_type": "stream",
     "text": [
      "Accuracy =  0.9722222222222222\n"
     ]
    }
   ],
   "source": [
    "# 因為是分類問題，用accuracy_score來確認預測的精準度\n",
    "# 若設為1顆樹，最大深度5，其實就等於決策樹，Accuracy一樣\n",
    "# 而改為多顆樹，結果自然就比較好\n",
    "print('Accuracy = ', metrics.accuracy_score(y_test,y_pred))"
   ]
  },
  {
   "cell_type": "code",
   "execution_count": 7,
   "metadata": {},
   "outputs": [
    {
     "name": "stdout",
     "output_type": "stream",
     "text": [
      "Accuracy =  0.9444444444444444\n"
     ]
    }
   ],
   "source": [
    "# 用決策樹做一次，比較結果\n",
    "# 結果準確度低於隨機森林，果然團結力量大，多顆樹力量大於一顆樹\n",
    "wine = datasets.load_wine()\n",
    "x_train, x_test, y_train, y_test = train_test_split(wine.data, wine.target, test_size= 0.2 , random_state= 1)\n",
    "clf = DecisionTreeRegressor(random_state = 2)\n",
    "clf.fit(x_train, y_train)\n",
    "y_pred = clf.predict(x_test)\n",
    "print('Accuracy = ', metrics.accuracy_score(y_test,y_pred))"
   ]
  }
 ],
 "metadata": {
  "kernelspec": {
   "display_name": "Python 3",
   "language": "python",
   "name": "python3"
  },
  "language_info": {
   "codemirror_mode": {
    "name": "ipython",
    "version": 3
   },
   "file_extension": ".py",
   "mimetype": "text/x-python",
   "name": "python",
   "nbconvert_exporter": "python",
   "pygments_lexer": "ipython3",
   "version": "3.8.8"
  }
 },
 "nbformat": 4,
 "nbformat_minor": 2
}
