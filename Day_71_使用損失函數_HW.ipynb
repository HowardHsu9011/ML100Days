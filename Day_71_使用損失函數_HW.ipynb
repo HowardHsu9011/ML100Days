{
 "cells": [
  {
   "cell_type": "markdown",
   "metadata": {
    "colab_type": "text",
    "id": "cj4tE8e8iUtO"
   },
   "source": [
    "#   \n",
    "\n",
    "# 作業目標:\n",
    "\n",
    "    1. 藉由固定的 dataset, 來驗證不同loss function\n",
    "    2. Dataset 的特性跟我們選用的loss function 對accrancy 的影響\n",
    "    \n",
    "    \n",
    "# 作業重點: \n",
    "    請分別選用 \"MSE\", \"binary _crossentropy\"\n",
    "    查看Train/test accurancy and loss rate\n",
    "    "
   ]
  },
  {
   "cell_type": "markdown",
   "metadata": {
    "colab_type": "text",
    "id": "R51J4KyyiUsL"
   },
   "source": [
    "# 導入必要的函數"
   ]
  },
  {
   "cell_type": "code",
   "execution_count": 1,
   "metadata": {
    "colab": {},
    "colab_type": "code",
    "id": "Qd68OQjciUsM"
   },
   "outputs": [],
   "source": [
    "from keras.datasets import cifar10\n",
    "import numpy as np\n",
    "np.random.seed(10)"
   ]
  },
  {
   "cell_type": "markdown",
   "metadata": {
    "colab_type": "text",
    "id": "GxKuzQLQiUsP"
   },
   "source": [
    "# 資料準備"
   ]
  },
  {
   "cell_type": "code",
   "execution_count": 2,
   "metadata": {
    "colab": {},
    "colab_type": "code",
    "id": "MIbFZdTCiUsQ"
   },
   "outputs": [],
   "source": [
    "#取得Keras Dataset\n",
    "(x_img_train,y_label_train),(x_img_test,y_label_test)=cifar10.load_data()"
   ]
  },
  {
   "cell_type": "code",
   "execution_count": 3,
   "metadata": {
    "colab": {},
    "colab_type": "code",
    "id": "J8CJVjNOiUsS"
   },
   "outputs": [
    {
     "name": "stdout",
     "output_type": "stream",
     "text": [
      "train data: images: (50000, 32, 32, 3)  labels: (50000, 1)\n",
      "test  data: images: (10000, 32, 32, 3)  labels: (10000, 1)\n"
     ]
    }
   ],
   "source": [
    "#確認 CIFAR10 Dataset 資料維度\n",
    "print(\"train data:\",'images:',x_img_train.shape,\n",
    "      \" labels:\",y_label_train.shape) \n",
    "print(\"test  data:\",'images:',x_img_test.shape ,\n",
    "      \" labels:\",y_label_test.shape) "
   ]
  },
  {
   "cell_type": "code",
   "execution_count": 4,
   "metadata": {
    "colab": {},
    "colab_type": "code",
    "id": "V3P6P4DXiUsV"
   },
   "outputs": [],
   "source": [
    "#資料正規化\n",
    "x_img_train_normalize = x_img_train.astype('float32') / 255.0\n",
    "x_img_test_normalize = x_img_test.astype('float32') / 255.0"
   ]
  },
  {
   "cell_type": "code",
   "execution_count": 5,
   "metadata": {
    "colab": {},
    "colab_type": "code",
    "id": "vsDyjKYliUsX"
   },
   "outputs": [
    {
     "data": {
      "text/plain": [
       "(10000, 10)"
      ]
     },
     "execution_count": 5,
     "metadata": {},
     "output_type": "execute_result"
    }
   ],
   "source": [
    "#針對Label 做 ONE HOT ENCODE\n",
    "from keras.utils import np_utils\n",
    "y_label_train_OneHot = np_utils.to_categorical(y_label_train)\n",
    "y_label_test_OneHot = np_utils.to_categorical(y_label_test)\n",
    "y_label_test_OneHot.shape"
   ]
  },
  {
   "cell_type": "markdown",
   "metadata": {
    "colab_type": "text",
    "id": "RutW2OtgiUsZ"
   },
   "source": [
    "# 建立模型"
   ]
  },
  {
   "cell_type": "code",
   "execution_count": 6,
   "metadata": {
    "colab": {},
    "colab_type": "code",
    "id": "aHz592aXiUsa"
   },
   "outputs": [],
   "source": [
    "from keras.models import Sequential\n",
    "from keras.layers import Dense, Dropout, Activation, Flatten\n",
    "from keras.layers import Conv2D, MaxPooling2D, ZeroPadding2D"
   ]
  },
  {
   "cell_type": "code",
   "execution_count": 7,
   "metadata": {
    "colab": {},
    "colab_type": "code",
    "id": "hslqrIp0iUse"
   },
   "outputs": [],
   "source": [
    "model = Sequential()"
   ]
  },
  {
   "cell_type": "code",
   "execution_count": 8,
   "metadata": {
    "colab": {},
    "colab_type": "code",
    "id": "Hqe35hs2iUsi"
   },
   "outputs": [],
   "source": [
    "#卷積層1"
   ]
  },
  {
   "cell_type": "code",
   "execution_count": 9,
   "metadata": {
    "colab": {},
    "colab_type": "code",
    "id": "ED7dqe1YiUsm"
   },
   "outputs": [],
   "source": [
    "model.add(Conv2D(filters=32,kernel_size=(3,3),\n",
    "                 input_shape=(32, 32,3), \n",
    "                 activation='relu', \n",
    "                 padding='same'))"
   ]
  },
  {
   "cell_type": "code",
   "execution_count": 10,
   "metadata": {
    "colab": {},
    "colab_type": "code",
    "id": "n-GRKmPViUso"
   },
   "outputs": [],
   "source": [
    "model.add(Dropout(rate=0.25))"
   ]
  },
  {
   "cell_type": "code",
   "execution_count": 11,
   "metadata": {
    "colab": {},
    "colab_type": "code",
    "id": "GlWnnD1uiUsw"
   },
   "outputs": [],
   "source": [
    "model.add(MaxPooling2D(pool_size=(2, 2)))"
   ]
  },
  {
   "cell_type": "code",
   "execution_count": 12,
   "metadata": {
    "colab": {},
    "colab_type": "code",
    "id": "nawlkt55iUsy"
   },
   "outputs": [],
   "source": [
    "#卷積層2與池化層2"
   ]
  },
  {
   "cell_type": "code",
   "execution_count": 13,
   "metadata": {
    "colab": {},
    "colab_type": "code",
    "id": "xxyETiKNiUs1"
   },
   "outputs": [],
   "source": [
    "model.add(Conv2D(filters=64, kernel_size=(3, 3), \n",
    "                 activation='relu', padding='same'))"
   ]
  },
  {
   "cell_type": "code",
   "execution_count": 14,
   "metadata": {
    "colab": {},
    "colab_type": "code",
    "id": "RqcKWtqGiUs2"
   },
   "outputs": [],
   "source": [
    "model.add(Dropout(0.25))"
   ]
  },
  {
   "cell_type": "code",
   "execution_count": 15,
   "metadata": {
    "colab": {},
    "colab_type": "code",
    "id": "BUOOzlqfiUs4"
   },
   "outputs": [],
   "source": [
    "model.add(MaxPooling2D(pool_size=(2, 2)))"
   ]
  },
  {
   "cell_type": "code",
   "execution_count": 16,
   "metadata": {
    "colab": {},
    "colab_type": "code",
    "id": "LpkppB2siUs7"
   },
   "outputs": [],
   "source": [
    "#建立神經網路(平坦層、隱藏層、輸出層)"
   ]
  },
  {
   "cell_type": "code",
   "execution_count": 17,
   "metadata": {
    "colab": {},
    "colab_type": "code",
    "id": "UQOfU54_iUs_"
   },
   "outputs": [],
   "source": [
    "model.add(Flatten())\n",
    "model.add(Dropout(rate=0.25))"
   ]
  },
  {
   "cell_type": "code",
   "execution_count": 18,
   "metadata": {
    "colab": {},
    "colab_type": "code",
    "id": "_NV-8sq4iUtD"
   },
   "outputs": [],
   "source": [
    "model.add(Dense(1024, activation='relu'))\n",
    "model.add(Dropout(rate=0.25))"
   ]
  },
  {
   "cell_type": "code",
   "execution_count": 19,
   "metadata": {
    "colab": {},
    "colab_type": "code",
    "id": "qVK77krOiUtF"
   },
   "outputs": [],
   "source": [
    "model.add(Dense(10, activation='softmax'))"
   ]
  },
  {
   "cell_type": "code",
   "execution_count": 20,
   "metadata": {
    "colab": {},
    "colab_type": "code",
    "id": "ZxzRIjR0iUtH"
   },
   "outputs": [
    {
     "name": "stdout",
     "output_type": "stream",
     "text": [
      "Model: \"sequential\"\n",
      "_________________________________________________________________\n",
      " Layer (type)                Output Shape              Param #   \n",
      "=================================================================\n",
      " conv2d (Conv2D)             (None, 32, 32, 32)        896       \n",
      "                                                                 \n",
      " dropout (Dropout)           (None, 32, 32, 32)        0         \n",
      "                                                                 \n",
      " max_pooling2d (MaxPooling2D  (None, 16, 16, 32)       0         \n",
      " )                                                               \n",
      "                                                                 \n",
      " conv2d_1 (Conv2D)           (None, 16, 16, 64)        18496     \n",
      "                                                                 \n",
      " dropout_1 (Dropout)         (None, 16, 16, 64)        0         \n",
      "                                                                 \n",
      " max_pooling2d_1 (MaxPooling  (None, 8, 8, 64)         0         \n",
      " 2D)                                                             \n",
      "                                                                 \n",
      " flatten (Flatten)           (None, 4096)              0         \n",
      "                                                                 \n",
      " dropout_2 (Dropout)         (None, 4096)              0         \n",
      "                                                                 \n",
      " dense (Dense)               (None, 1024)              4195328   \n",
      "                                                                 \n",
      " dropout_3 (Dropout)         (None, 1024)              0         \n",
      "                                                                 \n",
      " dense_1 (Dense)             (None, 10)                10250     \n",
      "                                                                 \n",
      "=================================================================\n",
      "Total params: 4,224,970\n",
      "Trainable params: 4,224,970\n",
      "Non-trainable params: 0\n",
      "_________________________________________________________________\n",
      "None\n"
     ]
    }
   ],
   "source": [
    "#檢查model 的STACK\n",
    "print(model.summary())"
   ]
  },
  {
   "cell_type": "markdown",
   "metadata": {
    "colab_type": "text",
    "id": "QJCtpJM0iUtJ"
   },
   "source": [
    "# 載入之前訓練的模型"
   ]
  },
  {
   "cell_type": "code",
   "execution_count": 21,
   "metadata": {
    "colab": {},
    "colab_type": "code",
    "id": "JU3A6NzQiUtK"
   },
   "outputs": [
    {
     "name": "stdout",
     "output_type": "stream",
     "text": [
      "載入模型失敗!開始訓練一個新模型\n"
     ]
    }
   ],
   "source": [
    "try:\n",
    "    model.load_weights(\"SaveModel/cifarCnnModel.h5\")\n",
    "    print(\"載入模型成功!繼續訓練模型\")\n",
    "except :    \n",
    "    print(\"載入模型失敗!開始訓練一個新模型\")"
   ]
  },
  {
   "cell_type": "markdown",
   "metadata": {
    "colab_type": "text",
    "id": "qBbCuziziUtM"
   },
   "source": [
    "# 訓練模型"
   ]
  },
  {
   "cell_type": "code",
   "execution_count": 22,
   "metadata": {
    "colab": {},
    "colab_type": "code",
    "id": "Q6BiBcseiUtP"
   },
   "outputs": [
    {
     "data": {
      "text/plain": [
       "'\\n作業:\\n請分別選用 \"MSE\", \"binary _crossentropy\"\\n查看Train/test accurancy and loss rate\\n'"
      ]
     },
     "execution_count": 22,
     "metadata": {},
     "output_type": "execute_result"
    }
   ],
   "source": [
    "model.compile(loss='categorical_crossentropy', optimizer='sgd', metrics=['accuracy'])\n",
    "model_MSE = model\n",
    "model_bc = model\n",
    "model_MSE.compile(loss='MSE', optimizer='sgd', metrics=['accuracy'])\n",
    "model_bc.compile(loss='binary_crossentropy', optimizer='sgd', metrics=['accuracy'])\n",
    "'''\n",
    "作業:\n",
    "請分別選用 \"MSE\", \"binary _crossentropy\"\n",
    "查看Train/test accurancy and loss rate\n",
    "'''"
   ]
  },
  {
   "cell_type": "code",
   "execution_count": 23,
   "metadata": {
    "colab": {},
    "colab_type": "code",
    "id": "4-GdDgmQiUtS"
   },
   "outputs": [
    {
     "name": "stdout",
     "output_type": "stream",
     "text": [
      "Epoch 1/12\n",
      "293/293 [==============================] - 70s 237ms/step - loss: 0.3538 - accuracy: 0.1110 - val_loss: 0.3671 - val_accuracy: 0.1687\n",
      "Epoch 2/12\n",
      "293/293 [==============================] - 62s 212ms/step - loss: 0.3308 - accuracy: 0.1408 - val_loss: 0.3641 - val_accuracy: 0.1988\n",
      "Epoch 3/12\n",
      "293/293 [==============================] - 63s 215ms/step - loss: 0.3251 - accuracy: 0.1644 - val_loss: 0.3592 - val_accuracy: 0.2580\n",
      "Epoch 4/12\n",
      "293/293 [==============================] - 62s 211ms/step - loss: 0.3196 - accuracy: 0.1877 - val_loss: 0.3548 - val_accuracy: 0.2706\n",
      "Epoch 5/12\n",
      "293/293 [==============================] - 63s 215ms/step - loss: 0.3138 - accuracy: 0.2069 - val_loss: 0.3490 - val_accuracy: 0.2790\n",
      "Epoch 6/12\n",
      "293/293 [==============================] - 63s 214ms/step - loss: 0.3078 - accuracy: 0.2255 - val_loss: 0.3440 - val_accuracy: 0.2919\n",
      "Epoch 7/12\n",
      "293/293 [==============================] - 62s 213ms/step - loss: 0.3038 - accuracy: 0.2435 - val_loss: 0.3390 - val_accuracy: 0.2947\n",
      "Epoch 8/12\n",
      "293/293 [==============================] - 74s 253ms/step - loss: 0.3010 - accuracy: 0.2546 - val_loss: 0.3364 - val_accuracy: 0.3008\n",
      "Epoch 9/12\n",
      "293/293 [==============================] - 72s 247ms/step - loss: 0.2988 - accuracy: 0.2639 - val_loss: 0.3338 - val_accuracy: 0.3060\n",
      "Epoch 10/12\n",
      "293/293 [==============================] - 73s 250ms/step - loss: 0.2969 - accuracy: 0.2700 - val_loss: 0.3314 - val_accuracy: 0.3066\n",
      "Epoch 11/12\n",
      "293/293 [==============================] - 62s 213ms/step - loss: 0.2950 - accuracy: 0.2775 - val_loss: 0.3305 - val_accuracy: 0.3163\n",
      "Epoch 12/12\n",
      "293/293 [==============================] - 73s 250ms/step - loss: 0.2934 - accuracy: 0.2814 - val_loss: 0.3286 - val_accuracy: 0.3196\n",
      "Epoch 1/12\n",
      "293/293 [==============================] - 74s 252ms/step - loss: 0.2918 - accuracy: 0.2909 - val_loss: 0.3265 - val_accuracy: 0.3292\n",
      "Epoch 2/12\n",
      "293/293 [==============================] - 77s 263ms/step - loss: 0.2899 - accuracy: 0.2951 - val_loss: 0.3249 - val_accuracy: 0.3317\n",
      "Epoch 3/12\n",
      "293/293 [==============================] - 75s 256ms/step - loss: 0.2882 - accuracy: 0.3023 - val_loss: 0.3235 - val_accuracy: 0.3385\n",
      "Epoch 4/12\n",
      "293/293 [==============================] - 63s 216ms/step - loss: 0.2863 - accuracy: 0.3088 - val_loss: 0.3220 - val_accuracy: 0.3405\n",
      "Epoch 5/12\n",
      "293/293 [==============================] - 62s 212ms/step - loss: 0.2848 - accuracy: 0.3180 - val_loss: 0.3197 - val_accuracy: 0.3450\n",
      "Epoch 6/12\n",
      "293/293 [==============================] - 69s 235ms/step - loss: 0.2828 - accuracy: 0.3232 - val_loss: 0.3184 - val_accuracy: 0.3485\n",
      "Epoch 7/12\n",
      "293/293 [==============================] - 76s 260ms/step - loss: 0.2807 - accuracy: 0.3298 - val_loss: 0.3166 - val_accuracy: 0.3526\n",
      "Epoch 8/12\n",
      "293/293 [==============================] - 69s 237ms/step - loss: 0.2791 - accuracy: 0.3340 - val_loss: 0.3136 - val_accuracy: 0.3645\n",
      "Epoch 9/12\n",
      "293/293 [==============================] - 74s 253ms/step - loss: 0.2774 - accuracy: 0.3435 - val_loss: 0.3121 - val_accuracy: 0.3642\n",
      "Epoch 10/12\n",
      "293/293 [==============================] - 67s 228ms/step - loss: 0.2757 - accuracy: 0.3464 - val_loss: 0.3103 - val_accuracy: 0.3701\n",
      "Epoch 11/12\n",
      "293/293 [==============================] - 68s 231ms/step - loss: 0.2741 - accuracy: 0.3519 - val_loss: 0.3089 - val_accuracy: 0.3703\n",
      "Epoch 12/12\n",
      "293/293 [==============================] - 81s 277ms/step - loss: 0.2727 - accuracy: 0.3557 - val_loss: 0.3062 - val_accuracy: 0.3752\n",
      "Epoch 1/12\n",
      "293/293 [==============================] - 64s 218ms/step - loss: 0.2711 - accuracy: 0.3605 - val_loss: 0.3053 - val_accuracy: 0.3817\n",
      "Epoch 2/12\n",
      "293/293 [==============================] - 64s 218ms/step - loss: 0.2699 - accuracy: 0.3635 - val_loss: 0.3031 - val_accuracy: 0.3825\n",
      "Epoch 3/12\n",
      "293/293 [==============================] - 69s 236ms/step - loss: 0.2681 - accuracy: 0.3687 - val_loss: 0.3013 - val_accuracy: 0.3918\n",
      "Epoch 4/12\n",
      "293/293 [==============================] - 67s 229ms/step - loss: 0.2670 - accuracy: 0.3740 - val_loss: 0.3008 - val_accuracy: 0.3954\n",
      "Epoch 5/12\n",
      "293/293 [==============================] - 65s 222ms/step - loss: 0.2656 - accuracy: 0.3798 - val_loss: 0.2981 - val_accuracy: 0.3949\n",
      "Epoch 6/12\n",
      "293/293 [==============================] - 66s 224ms/step - loss: 0.2648 - accuracy: 0.3802 - val_loss: 0.2971 - val_accuracy: 0.3982\n",
      "Epoch 7/12\n",
      "293/293 [==============================] - 64s 220ms/step - loss: 0.2636 - accuracy: 0.3825 - val_loss: 0.2956 - val_accuracy: 0.4006\n",
      "Epoch 8/12\n",
      "293/293 [==============================] - 64s 218ms/step - loss: 0.2623 - accuracy: 0.3884 - val_loss: 0.2948 - val_accuracy: 0.4048\n",
      "Epoch 9/12\n",
      "293/293 [==============================] - 64s 219ms/step - loss: 0.2611 - accuracy: 0.3916 - val_loss: 0.2936 - val_accuracy: 0.4097\n",
      "Epoch 10/12\n",
      "293/293 [==============================] - 64s 220ms/step - loss: 0.2600 - accuracy: 0.3930 - val_loss: 0.2930 - val_accuracy: 0.4103\n",
      "Epoch 11/12\n",
      "293/293 [==============================] - 64s 220ms/step - loss: 0.2588 - accuracy: 0.4002 - val_loss: 0.2906 - val_accuracy: 0.4119\n",
      "Epoch 12/12\n",
      "293/293 [==============================] - 66s 226ms/step - loss: 0.2580 - accuracy: 0.4021 - val_loss: 0.2913 - val_accuracy: 0.4190\n"
     ]
    }
   ],
   "source": [
    "#模型訓練, \"Train_History\" 把訓練過程所得到的數值存起來\n",
    "train_history=model.fit(x_img_train_normalize, y_label_train_OneHot,\n",
    "                        validation_split=0.25,\n",
    "                        epochs=12, batch_size=128, verbose=1)         \n",
    "train_history_MSE=model_MSE.fit(x_img_train_normalize, y_label_train_OneHot,\n",
    "                        validation_split=0.25,\n",
    "                        epochs=12, batch_size=128, verbose=1)         \n",
    "train_history_bc=model_bc.fit(x_img_train_normalize, y_label_train_OneHot,\n",
    "                        validation_split=0.25,\n",
    "                        epochs=12, batch_size=128, verbose=1)\n",
    "#[validation_split = 0.2] validation_split：在0和1之間浮動。用作驗證數據的訓練數據的分數。\n",
    "#該模型將訓練數據的這一部分分開，不會對其進行訓練，並將在每個時期結束時評估該數據的損失和任何模型指標。\n",
    "#[batch_size]：整數或None。每個梯度更新的樣本數。指定，batch_size為128"
   ]
  },
  {
   "cell_type": "code",
   "execution_count": 24,
   "metadata": {},
   "outputs": [],
   "source": [
    "import matplotlib.pyplot as plt\n",
    "%matplotlib inline\n",
    "\n",
    "#定義一個繪圖函數\n",
    "def show_train_history(train_acc,test_acc):\n",
    "    plt.plot(train_history.history[train_acc])\n",
    "    plt.plot(train_history.history[test_acc])\n",
    "    plt.title('Train History')\n",
    "    plt.ylabel('Accuracy')\n",
    "    plt.xlabel('Epoch')\n",
    "    plt.legend(['train_acc', 'val_acc'], loc='upper left')\n",
    "    plt.show()\n",
    "    \n",
    "def show_train_history_MSE(train_acc,test_acc):\n",
    "    plt.plot(train_history_MSE.history[train_acc])\n",
    "    plt.plot(train_history_MSE.history[test_acc])\n",
    "    plt.title('Train History_MSE')\n",
    "    plt.ylabel('Accuracy')\n",
    "    plt.xlabel('Epoch')\n",
    "    plt.legend(['train_acc', 'val_acc'], loc='upper left')\n",
    "    plt.show()\n",
    "    \n",
    "def show_train_history_bc(train_acc,test_acc):\n",
    "    plt.plot(train_history_bc.history[train_acc])\n",
    "    plt.plot(train_history_bc.history[test_acc])\n",
    "    plt.title('Train History_bc')\n",
    "    plt.ylabel('Accuracy')\n",
    "    plt.xlabel('Epoch')\n",
    "    plt.legend(['train_acc', 'val_acc'], loc='upper left')\n",
    "    plt.show()"
   ]
  },
  {
   "cell_type": "code",
   "execution_count": 25,
   "metadata": {},
   "outputs": [
    {
     "data": {
      "image/png": "[encoded data removed]",
      "text/plain": [
       "<Figure size 432x288 with 1 Axes>"
      ]
     },
     "metadata": {
      "needs_background": "light"
     },
     "output_type": "display_data"
    },
    {
     "data": {
      "image/png": "[encoded data removed]",
      "text/plain": [
       "<Figure size 432x288 with 1 Axes>"
      ]
     },
     "metadata": {
      "needs_background": "light"
     },
     "output_type": "display_data"
    },
    {
     "data": {
      "image/png": "[encoded data removed]",
      "text/plain": [
       "<Figure size 432x288 with 1 Axes>"
      ]
     },
     "metadata": {
      "needs_background": "light"
     },
     "output_type": "display_data"
    }
   ],
   "source": [
    "show_train_history('accuracy','val_accuracy')\n",
    "show_train_history_MSE('accuracy','val_accuracy')\n",
    "show_train_history_bc('accuracy','val_accuracy')   "
   ]
  },
  {
   "cell_type": "code",
   "execution_count": 26,
   "metadata": {},
   "outputs": [
    {
     "data": {
      "image/png": "[encoded data removed]",
      "text/plain": [
       "<Figure size 432x288 with 1 Axes>"
      ]
     },
     "metadata": {
      "needs_background": "light"
     },
     "output_type": "display_data"
    },
    {
     "data": {
      "image/png": "[encoded data removed]",
      "text/plain": [
       "<Figure size 432x288 with 1 Axes>"
      ]
     },
     "metadata": {
      "needs_background": "light"
     },
     "output_type": "display_data"
    },
    {
     "data": {
      "image/png": "[encoded data removed]",
      "text/plain": [
       "<Figure size 432x288 with 1 Axes>"
      ]
     },
     "metadata": {
      "needs_background": "light"
     },
     "output_type": "display_data"
    }
   ],
   "source": [
    "show_train_history('loss','val_loss')\n",
    "show_train_history_MSE('loss','val_loss')\n",
    "show_train_history_bc('loss','val_loss')"
   ]
  },
  {
   "cell_type": "code",
   "execution_count": 27,
   "metadata": {},
   "outputs": [
    {
     "name": "stdout",
     "output_type": "stream",
     "text": [
      "313/313 [==============================] - 4s 13ms/step - loss: 0.2895 - accuracy: 0.4277\n",
      "\n",
      "accuracy    = 0.427700012922287\n",
      "313/313 [==============================] - 4s 12ms/step - loss: 0.2895 - accuracy: 0.4277\n",
      "\n",
      "accuracy_MSE= 0.427700012922287\n",
      "313/313 [==============================] - 4s 12ms/step - loss: 0.2895 - accuracy: 0.4277\n",
      "\n",
      "accuracy_bc = 0.427700012922287\n"
     ]
    }
   ],
   "source": [
    "scores = model.evaluate(x_img_test_normalize, y_label_test_OneHot)\n",
    "print()\n",
    "print('accuracy    =',scores[1])\n",
    "scores_MSE = model_MSE.evaluate(x_img_test_normalize, y_label_test_OneHot)\n",
    "print()\n",
    "print('accuracy_MSE=',scores_MSE[1])\n",
    "scores_bc = model_bc.evaluate(x_img_test_normalize, y_label_test_OneHot)\n",
    "print()\n",
    "print('accuracy_bc =',scores_bc[1])"
   ]
  }
 ],
 "metadata": {
  "colab": {
   "name": "Day71-使用損失函數_HW.ipynb",
   "provenance": [],
   "version": "0.3.2"
  },
  "kernelspec": {
   "display_name": "Python 3",
   "language": "python",
   "name": "python3"
  },
  "language_info": {
   "codemirror_mode": {
    "name": "ipython",
    "version": 3
   },
   "file_extension": ".py",
   "mimetype": "text/x-python",
   "name": "python",
   "nbconvert_exporter": "python",
   "pygments_lexer": "ipython3",
   "version": "3.8.8"
  }
 },
 "nbformat": 4,
 "nbformat_minor": 1
}
