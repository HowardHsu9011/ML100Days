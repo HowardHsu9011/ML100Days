{
 "cells": [
  {
   "cell_type": "markdown",
   "metadata": {},
   "source": [
    "### 作業\n",
    "目前已經學過許多的模型，相信大家對整體流程應該比較掌握了，這次作業請改用**手寫辨識資料集**，步驟流程都是一樣的，請試著自己撰寫程式碼來完成所有步驟"
   ]
  },
  {
   "cell_type": "code",
   "execution_count": 1,
   "metadata": {},
   "outputs": [],
   "source": [
    "# 載入會用到的模組\n",
    "from sklearn import datasets, metrics\n",
    "from sklearn.ensemble import GradientBoostingRegressor, GradientBoostingClassifier, RandomForestClassifier, RandomForestRegressor\n",
    "from sklearn.model_selection import train_test_split"
   ]
  },
  {
   "cell_type": "markdown",
   "metadata": {},
   "source": [
    "## 應用GradientBoostingClassifier模組 "
   ]
  },
  {
   "cell_type": "code",
   "execution_count": 26,
   "metadata": {},
   "outputs": [
    {
     "name": "stdout",
     "output_type": "stream",
     "text": [
      "Accuracy =  0.9711111111111111\n"
     ]
    }
   ],
   "source": [
    "# 載入digits 資料集\n",
    "digits = datasets.load_digits()\n",
    "# 將資料切分成訓練集/測試集\n",
    "x_train, x_test, y_train, y_test = train_test_split(digits.data, digits.target, test_size = 0.25, random_state = 4)\n",
    "# 載入GradientBoostingRegressor模組\n",
    "gbr = GradientBoostingClassifier(learning_rate = 0.3 , n_estimators = 100, random_state = 2)\n",
    "# 將訓練資料送入模組做訓練\n",
    "gbr.fit(x_train, y_train)\n",
    "# 將測試資料餵進去，y_pred是預測結果的值\n",
    "y_pred = gbr.predict(x_test)\n",
    "# 因為是分類問題，以Accuracy來看結果\n",
    "# 將learning_rate調大 OR n_estimators 調大，準確度都會提升\n",
    "print('Accuracy = ', metrics.accuracy_score(y_test,y_pred))"
   ]
  },
  {
   "cell_type": "markdown",
   "metadata": {},
   "source": [
    "## 應用RandomForestClassifier模組 "
   ]
  },
  {
   "cell_type": "code",
   "execution_count": 25,
   "metadata": {},
   "outputs": [
    {
     "name": "stdout",
     "output_type": "stream",
     "text": [
      "Accuracy =  0.9777777777777777\n"
     ]
    }
   ],
   "source": [
    "# 載入digits 資料集\n",
    "digits = datasets.load_digits()\n",
    "# 將資料切分成訓練集/測試集\n",
    "x_train, x_test, y_train, y_test = train_test_split(digits.data, digits.target, test_size = 0.25, random_state = 4)\n",
    "# 載入GradientBoostingRegressor模組\n",
    "rfr = RandomForestClassifier(n_estimators = 100, max_depth=5, random_state = 2)\n",
    "# 將訓練資料送入模組做訓練\n",
    "rfr.fit(x_train, y_train)\n",
    "# 將測試資料餵進去，y_pred是預測結果的值\n",
    "y_pred = rfr.predict(x_test)\n",
    "# 因為是分類問題，以Accuracy來看結果\n",
    "print('Accuracy = ', metrics.accuracy_score(y_test,y_pred))"
   ]
  }
 ],
 "metadata": {
  "kernelspec": {
   "display_name": "Python 3",
   "language": "python",
   "name": "python3"
  },
  "language_info": {
   "codemirror_mode": {
    "name": "ipython",
    "version": 3
   },
   "file_extension": ".py",
   "mimetype": "text/x-python",
   "name": "python",
   "nbconvert_exporter": "python",
   "pygments_lexer": "ipython3",
   "version": "3.8.8"
  }
 },
 "nbformat": 4,
 "nbformat_minor": 2
}
