{
 "cells": [
  {
   "cell_type": "markdown",
   "metadata": {
    "id": "auEAuEgT4oXE"
   },
   "source": [
    "## Work\n",
    "1. 請嘗試將 preproc_x 替換成以每筆資料的 min/max 進行標準化至 -1 ~ 1 間，再進行訓練\n",
    "2. 請嘗試將 mlp 疊更深 (e.g 5~10 層)，進行訓練後觀察 learning curve 的走勢\n",
    "3. (optional) 請改用 GPU 進行訓練 (可善用 google colab)，比較使用 CPU 與 GPU 的訓練速度"
   ]
  },
  {
   "cell_type": "code",
   "execution_count": 2,
   "metadata": {
    "id": "L0HSsOA-4oXE"
   },
   "outputs": [
    {
     "name": "stdout",
     "output_type": "stream",
     "text": [
      "Wed Dec  8 20:43:21 2021       \n",
      "+-----------------------------------------------------------------------------+\n",
      "| NVIDIA-SMI 496.49       Driver Version: 496.49       CUDA Version: 11.5     |\n",
      "|-------------------------------+----------------------+----------------------+\n",
      "| GPU  Name            TCC/WDDM | Bus-Id        Disp.A | Volatile Uncorr. ECC |\n",
      "| Fan  Temp  Perf  Pwr:Usage/Cap|         Memory-Usage | GPU-Util  Compute M. |\n",
      "|                               |                      |               MIG M. |\n",
      "|===============================+======================+======================|\n",
      "|   0  NVIDIA GeForce ... WDDM  | 00000000:01:00.0 Off |                  N/A |\n",
      "| N/A   39C    P8     3W /  N/A |    134MiB /  4096MiB |      0%      Default |\n",
      "|                               |                      |                  N/A |\n",
      "+-------------------------------+----------------------+----------------------+\n",
      "                                                                               \n",
      "+-----------------------------------------------------------------------------+\n",
      "| Processes:                                                                  |\n",
      "|  GPU   GI   CI        PID   Type   Process name                  GPU Memory |\n",
      "|        ID   ID                                                   Usage      |\n",
      "|=============================================================================|\n",
      "|    0   N/A  N/A      5204      C   Insufficient Permissions        N/A      |\n",
      "+-----------------------------------------------------------------------------+\n"
     ]
    }
   ],
   "source": [
    "## \n",
    "\"\"\"\n",
    "Your code here (optional)\n",
    "確認硬體資源\n",
    "\"\"\"\n",
    "!nvidia-smi"
   ]
  },
  {
   "cell_type": "code",
   "execution_count": 8,
   "metadata": {
    "id": "wujF_rVq4oXF",
    "outputId": "eb23eca8-6055-4eb3-8931-b2e7da7fa596"
   },
   "outputs": [],
   "source": [
    "import os\n",
    "import keras\n",
    "from keras.datasets import cifar10\n",
    "\n",
    "# 請嘗試設定 GPU：os.environ\n",
    "os.environ[\"CUDA_VISIBLE_DEVICES\"] = \"0\""
   ]
  },
  {
   "cell_type": "code",
   "execution_count": 9,
   "metadata": {
    "id": "mD7ScVX24oXF"
   },
   "outputs": [],
   "source": [
    "train, test = keras.datasets.cifar10.load_data()"
   ]
  },
  {
   "cell_type": "code",
   "execution_count": 14,
   "metadata": {
    "id": "cv2Wknx_4oXF"
   },
   "outputs": [],
   "source": [
    "## 資料前處理\n",
    "\"\"\"\n",
    "Your code here\n",
    "\"\"\"\n",
    "def preproc_x(x, flatten=True):\n",
    "    x = (x/255)*2 -1\n",
    "    if flatten:\n",
    "        x = x.reshape(len(x),-1)\n",
    "    return x\n",
    "\n",
    "def preproc_y(y, num_classes=10):\n",
    "    if y.shape[-1] == 1:\n",
    "        y = keras.utils.np_utils.to_categorical(y, num_classes)\n",
    "    return y"
   ]
  },
  {
   "cell_type": "code",
   "execution_count": 15,
   "metadata": {
    "id": "zp2WdT4d4oXF"
   },
   "outputs": [],
   "source": [
    "x_train, y_train = train\n",
    "x_test, y_test = test\n",
    "\n",
    "# Preproc the inputs\n",
    "x_train = preproc_x(x_train)\n",
    "x_test = preproc_x(x_test)\n",
    "\n",
    "# Preprc the outputs\n",
    "y_train = preproc_y(y_train)\n",
    "y_test = preproc_y(y_test)"
   ]
  },
  {
   "cell_type": "code",
   "execution_count": 16,
   "metadata": {},
   "outputs": [
    {
     "data": {
      "text/plain": [
       "array([[-0.5372549 , -0.51372549, -0.50588235, ..., -0.03529412,\n",
       "        -0.27843137, -0.43529412],\n",
       "       [ 0.20784314,  0.38823529,  0.46666667, ...,  0.12156863,\n",
       "         0.04313725,  0.12941176],\n",
       "       [ 1.        ,  1.        ,  1.        , ..., -0.37254902,\n",
       "        -0.3254902 , -0.34117647],\n",
       "       ...,\n",
       "       [-0.7254902 ,  0.39607843,  0.84313725, ..., -0.90588235,\n",
       "        -0.75686275, -0.60784314],\n",
       "       [ 0.48235294,  0.65490196,  0.88235294, ...,  0.52941176,\n",
       "         0.49019608,  0.34117647],\n",
       "       [ 0.79607843,  0.79607843,  0.8745098 , ...,  0.27843137,\n",
       "         0.27843137,  0.2627451 ]])"
      ]
     },
     "execution_count": 16,
     "metadata": {},
     "output_type": "execute_result"
    }
   ],
   "source": [
    "x_train"
   ]
  },
  {
   "cell_type": "code",
   "execution_count": 17,
   "metadata": {
    "id": "KBj2NiDK4oXF"
   },
   "outputs": [
    {
     "name": "stdout",
     "output_type": "stream",
     "text": [
      "Model: \"model_1\"\n",
      "_________________________________________________________________\n",
      " Layer (type)                Output Shape              Param #   \n",
      "=================================================================\n",
      " input_2 (InputLayer)        [(None, 3072)]            0         \n",
      "                                                                 \n",
      " dense_4 (Dense)             (None, 512)               1573376   \n",
      "                                                                 \n",
      " dense_5 (Dense)             (None, 256)               131328    \n",
      "                                                                 \n",
      " dense_6 (Dense)             (None, 128)               32896     \n",
      "                                                                 \n",
      " dense_7 (Dense)             (None, 64)                8256      \n",
      "                                                                 \n",
      " dense_8 (Dense)             (None, 32)                2080      \n",
      "                                                                 \n",
      " dense_9 (Dense)             (None, 10)                330       \n",
      "                                                                 \n",
      "=================================================================\n",
      "Total params: 1,748,266\n",
      "Trainable params: 1,748,266\n",
      "Non-trainable params: 0\n",
      "_________________________________________________________________\n"
     ]
    }
   ],
   "source": [
    "\"\"\"Code Here\n",
    "建立你的神經網路\n",
    "\"\"\"\n",
    "def build_mlp():\n",
    "    input_layer = keras.layers.Input([x_train.shape[-1]])\n",
    "    x = keras.layers.Dense(units=512, activation = 'relu')(input_layer)\n",
    "    x = keras.layers.Dense(units=256, activation = 'relu')(x)\n",
    "    x = keras.layers.Dense(units=128, activation = 'relu')(x)\n",
    "    x = keras.layers.Dense(units=64, activation = 'relu')(x)\n",
    "    x = keras.layers.Dense(units=32, activation = 'relu')(x)\n",
    "    out = keras.layers.Dense(units=10, activation = 'softmax')(x)\n",
    "    \n",
    "    model = keras.models.Model(inputs=[input_layer], outputs=[out])\n",
    "\n",
    "    return model\n",
    "model = build_mlp()\n",
    "model.summary()\n"
   ]
  },
  {
   "cell_type": "code",
   "execution_count": 18,
   "metadata": {
    "id": "uejU37q-4oXF"
   },
   "outputs": [],
   "source": [
    "## 超參數設定\n",
    "LEARNING_RATE = 0.001\n",
    "EPOCHS = 100\n",
    "BATCH_SIZE = 256"
   ]
  },
  {
   "cell_type": "code",
   "execution_count": 20,
   "metadata": {
    "id": "FePHihT34oXG"
   },
   "outputs": [],
   "source": [
    "model.compile(loss=\"categorical_crossentropy\", metrics=[\"accuracy\"], optimizer='Adam')"
   ]
  },
  {
   "cell_type": "code",
   "execution_count": 21,
   "metadata": {
    "id": "LmLgZXCQ4oXG",
    "outputId": "cb609889-f8fe-47e8-b64c-27db5202b5e5"
   },
   "outputs": [
    {
     "name": "stdout",
     "output_type": "stream",
     "text": [
      "Epoch 1/100\n",
      "196/196 [==============================] - 4s 16ms/step - loss: 1.7264 - accuracy: 0.3884 - val_loss: 1.5680 - val_accuracy: 0.4399\n",
      "Epoch 2/100\n",
      "196/196 [==============================] - 3s 15ms/step - loss: 1.4880 - accuracy: 0.4778 - val_loss: 1.4720 - val_accuracy: 0.4846\n",
      "Epoch 3/100\n",
      "196/196 [==============================] - 3s 16ms/step - loss: 1.3642 - accuracy: 0.5227 - val_loss: 1.4050 - val_accuracy: 0.5083\n",
      "Epoch 4/100\n",
      "196/196 [==============================] - 3s 15ms/step - loss: 1.2688 - accuracy: 0.5560 - val_loss: 1.3886 - val_accuracy: 0.5165\n",
      "Epoch 5/100\n",
      "196/196 [==============================] - 3s 16ms/step - loss: 1.1857 - accuracy: 0.5810 - val_loss: 1.3486 - val_accuracy: 0.5299\n",
      "Epoch 6/100\n",
      "196/196 [==============================] - 3s 16ms/step - loss: 1.1027 - accuracy: 0.6116 - val_loss: 1.3770 - val_accuracy: 0.5274\n",
      "Epoch 7/100\n",
      "196/196 [==============================] - 3s 16ms/step - loss: 1.0316 - accuracy: 0.6346 - val_loss: 1.3820 - val_accuracy: 0.5300\n",
      "Epoch 8/100\n",
      "196/196 [==============================] - 3s 17ms/step - loss: 0.9576 - accuracy: 0.6623 - val_loss: 1.4043 - val_accuracy: 0.5285\n",
      "Epoch 9/100\n",
      "196/196 [==============================] - 3s 16ms/step - loss: 0.8886 - accuracy: 0.6865 - val_loss: 1.4292 - val_accuracy: 0.5371\n",
      "Epoch 10/100\n",
      "196/196 [==============================] - 3s 16ms/step - loss: 0.8216 - accuracy: 0.7096 - val_loss: 1.4849 - val_accuracy: 0.5249\n",
      "Epoch 11/100\n",
      "196/196 [==============================] - 3s 16ms/step - loss: 0.7615 - accuracy: 0.7316 - val_loss: 1.5224 - val_accuracy: 0.5302\n",
      "Epoch 12/100\n",
      "196/196 [==============================] - 3s 16ms/step - loss: 0.6937 - accuracy: 0.7548 - val_loss: 1.5683 - val_accuracy: 0.5341\n",
      "Epoch 13/100\n",
      "196/196 [==============================] - 3s 15ms/step - loss: 0.6280 - accuracy: 0.7781 - val_loss: 1.6794 - val_accuracy: 0.5269\n",
      "Epoch 14/100\n",
      "196/196 [==============================] - 3s 15ms/step - loss: 0.5844 - accuracy: 0.7933 - val_loss: 1.7337 - val_accuracy: 0.5381\n",
      "Epoch 15/100\n",
      "196/196 [==============================] - 3s 16ms/step - loss: 0.5359 - accuracy: 0.8109 - val_loss: 1.7506 - val_accuracy: 0.5309\n",
      "Epoch 16/100\n",
      "196/196 [==============================] - 3s 16ms/step - loss: 0.4905 - accuracy: 0.8291 - val_loss: 1.8636 - val_accuracy: 0.5257\n",
      "Epoch 17/100\n",
      "196/196 [==============================] - 3s 15ms/step - loss: 0.4527 - accuracy: 0.8410 - val_loss: 2.0041 - val_accuracy: 0.5246\n",
      "Epoch 18/100\n",
      "196/196 [==============================] - 3s 16ms/step - loss: 0.4086 - accuracy: 0.8570 - val_loss: 2.0747 - val_accuracy: 0.5318\n",
      "Epoch 19/100\n",
      "196/196 [==============================] - 3s 15ms/step - loss: 0.3750 - accuracy: 0.8683 - val_loss: 2.1683 - val_accuracy: 0.5345\n",
      "Epoch 20/100\n",
      "196/196 [==============================] - 3s 15ms/step - loss: 0.3408 - accuracy: 0.8813 - val_loss: 2.1749 - val_accuracy: 0.5310\n",
      "Epoch 21/100\n",
      "196/196 [==============================] - 3s 16ms/step - loss: 0.3240 - accuracy: 0.8865 - val_loss: 2.2742 - val_accuracy: 0.5275\n",
      "Epoch 22/100\n",
      "196/196 [==============================] - 3s 16ms/step - loss: 0.3083 - accuracy: 0.8921 - val_loss: 2.3960 - val_accuracy: 0.5312\n",
      "Epoch 23/100\n",
      "196/196 [==============================] - 3s 16ms/step - loss: 0.2818 - accuracy: 0.9021 - val_loss: 2.4428 - val_accuracy: 0.5186\n",
      "Epoch 24/100\n",
      "196/196 [==============================] - 3s 16ms/step - loss: 0.2748 - accuracy: 0.9022 - val_loss: 2.6433 - val_accuracy: 0.5218\n",
      "Epoch 25/100\n",
      "196/196 [==============================] - 3s 15ms/step - loss: 0.2389 - accuracy: 0.9180 - val_loss: 2.6278 - val_accuracy: 0.5239\n",
      "Epoch 26/100\n",
      "196/196 [==============================] - 3s 16ms/step - loss: 0.2430 - accuracy: 0.9160 - val_loss: 2.7645 - val_accuracy: 0.5251\n",
      "Epoch 27/100\n",
      "196/196 [==============================] - 3s 15ms/step - loss: 0.2224 - accuracy: 0.9238 - val_loss: 2.7652 - val_accuracy: 0.5295\n",
      "Epoch 28/100\n",
      "196/196 [==============================] - 3s 15ms/step - loss: 0.2236 - accuracy: 0.9236 - val_loss: 2.8415 - val_accuracy: 0.5256\n",
      "Epoch 29/100\n",
      "196/196 [==============================] - 3s 15ms/step - loss: 0.1985 - accuracy: 0.9321 - val_loss: 3.0404 - val_accuracy: 0.5195\n",
      "Epoch 30/100\n",
      "196/196 [==============================] - 3s 15ms/step - loss: 0.1859 - accuracy: 0.9358 - val_loss: 3.1596 - val_accuracy: 0.5230\n",
      "Epoch 31/100\n",
      "196/196 [==============================] - 3s 16ms/step - loss: 0.2131 - accuracy: 0.9268 - val_loss: 3.1010 - val_accuracy: 0.5232\n",
      "Epoch 32/100\n",
      "196/196 [==============================] - 3s 16ms/step - loss: 0.1794 - accuracy: 0.9386 - val_loss: 3.1286 - val_accuracy: 0.5235\n",
      "Epoch 33/100\n",
      "196/196 [==============================] - 3s 15ms/step - loss: 0.1723 - accuracy: 0.9413 - val_loss: 3.1536 - val_accuracy: 0.5208\n",
      "Epoch 34/100\n",
      "196/196 [==============================] - 3s 15ms/step - loss: 0.1479 - accuracy: 0.9498 - val_loss: 3.3911 - val_accuracy: 0.5233\n",
      "Epoch 35/100\n",
      "196/196 [==============================] - 3s 15ms/step - loss: 0.1894 - accuracy: 0.9371 - val_loss: 3.1866 - val_accuracy: 0.5219\n",
      "Epoch 36/100\n",
      "196/196 [==============================] - 3s 15ms/step - loss: 0.1394 - accuracy: 0.9519 - val_loss: 3.3934 - val_accuracy: 0.5298\n",
      "Epoch 37/100\n",
      "196/196 [==============================] - 3s 15ms/step - loss: 0.1424 - accuracy: 0.9515 - val_loss: 3.5346 - val_accuracy: 0.5263\n",
      "Epoch 38/100\n",
      "196/196 [==============================] - 3s 15ms/step - loss: 0.1697 - accuracy: 0.9422 - val_loss: 3.5500 - val_accuracy: 0.5152\n",
      "Epoch 39/100\n",
      "196/196 [==============================] - 3s 15ms/step - loss: 0.1450 - accuracy: 0.9502 - val_loss: 3.4692 - val_accuracy: 0.5205\n",
      "Epoch 40/100\n",
      "196/196 [==============================] - 3s 15ms/step - loss: 0.1306 - accuracy: 0.9555 - val_loss: 3.5587 - val_accuracy: 0.5283\n",
      "Epoch 41/100\n",
      "196/196 [==============================] - 3s 15ms/step - loss: 0.1372 - accuracy: 0.9535 - val_loss: 3.7779 - val_accuracy: 0.5211\n",
      "Epoch 42/100\n",
      "196/196 [==============================] - 3s 15ms/step - loss: 0.1408 - accuracy: 0.9539 - val_loss: 3.6703 - val_accuracy: 0.5120\n",
      "Epoch 43/100\n",
      "196/196 [==============================] - 3s 16ms/step - loss: 0.1470 - accuracy: 0.9506 - val_loss: 3.5476 - val_accuracy: 0.5213\n",
      "Epoch 44/100\n",
      "196/196 [==============================] - 3s 17ms/step - loss: 0.1100 - accuracy: 0.9620 - val_loss: 3.8296 - val_accuracy: 0.5243\n",
      "Epoch 45/100\n",
      "196/196 [==============================] - 3s 15ms/step - loss: 0.1378 - accuracy: 0.9550 - val_loss: 3.7788 - val_accuracy: 0.5196\n",
      "Epoch 46/100\n",
      "196/196 [==============================] - 3s 16ms/step - loss: 0.1313 - accuracy: 0.9565 - val_loss: 3.7361 - val_accuracy: 0.5253\n",
      "Epoch 47/100\n",
      "196/196 [==============================] - 3s 16ms/step - loss: 0.1293 - accuracy: 0.9565 - val_loss: 3.7134 - val_accuracy: 0.5286\n",
      "Epoch 48/100\n",
      "196/196 [==============================] - 3s 16ms/step - loss: 0.1169 - accuracy: 0.9609 - val_loss: 3.7424 - val_accuracy: 0.5297\n",
      "Epoch 49/100\n",
      "196/196 [==============================] - 3s 16ms/step - loss: 0.1114 - accuracy: 0.9624 - val_loss: 4.0590 - val_accuracy: 0.5300\n",
      "Epoch 50/100\n",
      "196/196 [==============================] - 3s 16ms/step - loss: 0.1195 - accuracy: 0.9593 - val_loss: 3.8807 - val_accuracy: 0.5276\n",
      "Epoch 51/100\n",
      "196/196 [==============================] - 3s 15ms/step - loss: 0.1031 - accuracy: 0.9661 - val_loss: 3.9538 - val_accuracy: 0.5292\n",
      "Epoch 52/100\n",
      "196/196 [==============================] - 3s 16ms/step - loss: 0.1192 - accuracy: 0.9599 - val_loss: 3.9221 - val_accuracy: 0.5192\n",
      "Epoch 53/100\n",
      "196/196 [==============================] - 3s 16ms/step - loss: 0.0998 - accuracy: 0.9659 - val_loss: 4.0219 - val_accuracy: 0.5251\n",
      "Epoch 54/100\n",
      "196/196 [==============================] - 3s 17ms/step - loss: 0.1120 - accuracy: 0.9632 - val_loss: 3.8808 - val_accuracy: 0.5239\n",
      "Epoch 55/100\n",
      "196/196 [==============================] - 3s 17ms/step - loss: 0.1185 - accuracy: 0.9607 - val_loss: 3.9263 - val_accuracy: 0.5216\n",
      "Epoch 56/100\n",
      "196/196 [==============================] - 4s 18ms/step - loss: 0.1034 - accuracy: 0.9659 - val_loss: 3.9577 - val_accuracy: 0.5267\n",
      "Epoch 57/100\n"
     ]
    },
    {
     "name": "stdout",
     "output_type": "stream",
     "text": [
      "196/196 [==============================] - 3s 16ms/step - loss: 0.0974 - accuracy: 0.9680 - val_loss: 3.9094 - val_accuracy: 0.5268\n",
      "Epoch 58/100\n",
      "196/196 [==============================] - 3s 15ms/step - loss: 0.0944 - accuracy: 0.9686 - val_loss: 4.0520 - val_accuracy: 0.5335\n",
      "Epoch 59/100\n",
      "196/196 [==============================] - 3s 15ms/step - loss: 0.0832 - accuracy: 0.9717 - val_loss: 4.1281 - val_accuracy: 0.5276\n",
      "Epoch 60/100\n",
      "196/196 [==============================] - 3s 15ms/step - loss: 0.0964 - accuracy: 0.9687 - val_loss: 4.1764 - val_accuracy: 0.5250\n",
      "Epoch 61/100\n",
      "196/196 [==============================] - 3s 18ms/step - loss: 0.1128 - accuracy: 0.9626 - val_loss: 4.2444 - val_accuracy: 0.5195\n",
      "Epoch 62/100\n",
      "196/196 [==============================] - 3s 17ms/step - loss: 0.0764 - accuracy: 0.9743 - val_loss: 4.1406 - val_accuracy: 0.5262\n",
      "Epoch 63/100\n",
      "196/196 [==============================] - 3s 15ms/step - loss: 0.1099 - accuracy: 0.9636 - val_loss: 4.1126 - val_accuracy: 0.5248\n",
      "Epoch 64/100\n",
      "196/196 [==============================] - 3s 15ms/step - loss: 0.0982 - accuracy: 0.9685 - val_loss: 4.1129 - val_accuracy: 0.5226\n",
      "Epoch 65/100\n",
      "196/196 [==============================] - 3s 15ms/step - loss: 0.0871 - accuracy: 0.9718 - val_loss: 4.2769 - val_accuracy: 0.5250\n",
      "Epoch 66/100\n",
      "196/196 [==============================] - 3s 15ms/step - loss: 0.0761 - accuracy: 0.9750 - val_loss: 4.2984 - val_accuracy: 0.5224\n",
      "Epoch 67/100\n",
      "196/196 [==============================] - 3s 15ms/step - loss: 0.0791 - accuracy: 0.9749 - val_loss: 4.3732 - val_accuracy: 0.5266\n",
      "Epoch 68/100\n",
      "196/196 [==============================] - 3s 15ms/step - loss: 0.0853 - accuracy: 0.9724 - val_loss: 4.2788 - val_accuracy: 0.5259\n",
      "Epoch 69/100\n",
      "196/196 [==============================] - 3s 15ms/step - loss: 0.0874 - accuracy: 0.9719 - val_loss: 4.1059 - val_accuracy: 0.5250\n",
      "Epoch 70/100\n",
      "196/196 [==============================] - 3s 15ms/step - loss: 0.1067 - accuracy: 0.9656 - val_loss: 4.1158 - val_accuracy: 0.5300\n",
      "Epoch 71/100\n",
      "196/196 [==============================] - 3s 15ms/step - loss: 0.0824 - accuracy: 0.9729 - val_loss: 4.1684 - val_accuracy: 0.5242\n",
      "Epoch 72/100\n",
      "196/196 [==============================] - 3s 15ms/step - loss: 0.0879 - accuracy: 0.9712 - val_loss: 4.2298 - val_accuracy: 0.5331\n",
      "Epoch 73/100\n",
      "196/196 [==============================] - 3s 15ms/step - loss: 0.0772 - accuracy: 0.9756 - val_loss: 4.2076 - val_accuracy: 0.5224\n",
      "Epoch 74/100\n",
      "196/196 [==============================] - 3s 15ms/step - loss: 0.0796 - accuracy: 0.9734 - val_loss: 4.3653 - val_accuracy: 0.5262\n",
      "Epoch 75/100\n",
      "196/196 [==============================] - 3s 15ms/step - loss: 0.0731 - accuracy: 0.9759 - val_loss: 4.4926 - val_accuracy: 0.5308\n",
      "Epoch 76/100\n",
      "196/196 [==============================] - 3s 15ms/step - loss: 0.0856 - accuracy: 0.9719 - val_loss: 4.3283 - val_accuracy: 0.5220\n",
      "Epoch 77/100\n",
      "196/196 [==============================] - 3s 15ms/step - loss: 0.0980 - accuracy: 0.9678 - val_loss: 4.2474 - val_accuracy: 0.5170\n",
      "Epoch 78/100\n",
      "196/196 [==============================] - 3s 15ms/step - loss: 0.0771 - accuracy: 0.9750 - val_loss: 4.2723 - val_accuracy: 0.5249\n",
      "Epoch 79/100\n",
      "196/196 [==============================] - 3s 15ms/step - loss: 0.0671 - accuracy: 0.9782 - val_loss: 4.5305 - val_accuracy: 0.5267\n",
      "Epoch 80/100\n",
      "196/196 [==============================] - 3s 15ms/step - loss: 0.0756 - accuracy: 0.9747 - val_loss: 4.5100 - val_accuracy: 0.5212\n",
      "Epoch 81/100\n",
      "196/196 [==============================] - 3s 15ms/step - loss: 0.0720 - accuracy: 0.9765 - val_loss: 4.3940 - val_accuracy: 0.5245\n",
      "Epoch 82/100\n",
      "196/196 [==============================] - 3s 15ms/step - loss: 0.0706 - accuracy: 0.9776 - val_loss: 4.4293 - val_accuracy: 0.5269\n",
      "Epoch 83/100\n",
      "196/196 [==============================] - 3s 15ms/step - loss: 0.0824 - accuracy: 0.9729 - val_loss: 4.3355 - val_accuracy: 0.5257\n",
      "Epoch 84/100\n",
      "196/196 [==============================] - 3s 15ms/step - loss: 0.0728 - accuracy: 0.9762 - val_loss: 4.4670 - val_accuracy: 0.5254\n",
      "Epoch 85/100\n",
      "196/196 [==============================] - 3s 15ms/step - loss: 0.0685 - accuracy: 0.9774 - val_loss: 4.4230 - val_accuracy: 0.5248\n",
      "Epoch 86/100\n",
      "196/196 [==============================] - 3s 15ms/step - loss: 0.0691 - accuracy: 0.9782 - val_loss: 4.3997 - val_accuracy: 0.5298\n",
      "Epoch 87/100\n",
      "196/196 [==============================] - 3s 15ms/step - loss: 0.0642 - accuracy: 0.9802 - val_loss: 4.5681 - val_accuracy: 0.5238\n",
      "Epoch 88/100\n",
      "196/196 [==============================] - 3s 15ms/step - loss: 0.0762 - accuracy: 0.9754 - val_loss: 4.3783 - val_accuracy: 0.5210\n",
      "Epoch 89/100\n",
      "196/196 [==============================] - 3s 15ms/step - loss: 0.0603 - accuracy: 0.9805 - val_loss: 4.6845 - val_accuracy: 0.5194\n",
      "Epoch 90/100\n",
      "196/196 [==============================] - 3s 15ms/step - loss: 0.0872 - accuracy: 0.9720 - val_loss: 4.6030 - val_accuracy: 0.5176\n",
      "Epoch 91/100\n",
      "196/196 [==============================] - 3s 17ms/step - loss: 0.0661 - accuracy: 0.9793 - val_loss: 4.3620 - val_accuracy: 0.5295\n",
      "Epoch 92/100\n",
      "196/196 [==============================] - 3s 16ms/step - loss: 0.0615 - accuracy: 0.9799 - val_loss: 4.4676 - val_accuracy: 0.5304\n",
      "Epoch 93/100\n",
      "196/196 [==============================] - 3s 17ms/step - loss: 0.0590 - accuracy: 0.9811 - val_loss: 4.7435 - val_accuracy: 0.5242\n",
      "Epoch 94/100\n",
      "196/196 [==============================] - 3s 16ms/step - loss: 0.0646 - accuracy: 0.9787 - val_loss: 4.4945 - val_accuracy: 0.5216\n",
      "Epoch 95/100\n",
      "196/196 [==============================] - 3s 15ms/step - loss: 0.0897 - accuracy: 0.9721 - val_loss: 4.3237 - val_accuracy: 0.5308\n",
      "Epoch 96/100\n",
      "196/196 [==============================] - 3s 15ms/step - loss: 0.0622 - accuracy: 0.9800 - val_loss: 4.5188 - val_accuracy: 0.5217\n",
      "Epoch 97/100\n",
      "196/196 [==============================] - 3s 15ms/step - loss: 0.0486 - accuracy: 0.9836 - val_loss: 4.6174 - val_accuracy: 0.5253\n",
      "Epoch 98/100\n",
      "196/196 [==============================] - 3s 15ms/step - loss: 0.0542 - accuracy: 0.9833 - val_loss: 4.8079 - val_accuracy: 0.5205\n",
      "Epoch 99/100\n",
      "196/196 [==============================] - 3s 16ms/step - loss: 0.0878 - accuracy: 0.9729 - val_loss: 4.3715 - val_accuracy: 0.5252\n",
      "Epoch 100/100\n",
      "196/196 [==============================] - 3s 15ms/step - loss: 0.0578 - accuracy: 0.9819 - val_loss: 4.5586 - val_accuracy: 0.5318\n"
     ]
    },
    {
     "data": {
      "text/plain": [
       "<keras.callbacks.History at 0x23e443afca0>"
      ]
     },
     "execution_count": 21,
     "metadata": {},
     "output_type": "execute_result"
    }
   ],
   "source": [
    "model.fit(x_train, y_train, \n",
    "          epochs=EPOCHS, \n",
    "          batch_size=BATCH_SIZE, \n",
    "          validation_data=(x_test, y_test), \n",
    "          shuffle=True)"
   ]
  },
  {
   "cell_type": "code",
   "execution_count": 23,
   "metadata": {
    "id": "jThDeFlL4oXG",
    "outputId": "c8f6a381-da51-4682-8b02-fd9a0733007c"
   },
   "outputs": [
    {
     "data": {
      "image/png": "[encoded data removed]",
      "text/plain": [
       "<Figure size 432x288 with 1 Axes>"
      ]
     },
     "metadata": {
      "needs_background": "light"
     },
     "output_type": "display_data"
    },
    {
     "data": {
      "image/png": "[encoded data removed]",
      "text/plain": [
       "<Figure size 432x288 with 1 Axes>"
      ]
     },
     "metadata": {
      "needs_background": "light"
     },
     "output_type": "display_data"
    }
   ],
   "source": [
    "import matplotlib.pyplot as plt\n",
    "\n",
    "\n",
    "train_loss = model.history.history[\"loss\"]\n",
    "valid_loss = model.history.history[\"val_loss\"]\n",
    "\n",
    "train_acc = model.history.history[\"accuracy\"]\n",
    "valid_acc = model.history.history[\"val_accuracy\"]\n",
    "\n",
    "plt.plot(range(len(train_loss)), train_loss, label=\"train loss\")\n",
    "plt.plot(range(len(valid_loss)), valid_loss, label=\"valid loss\")\n",
    "plt.legend()\n",
    "plt.title(\"Loss\")\n",
    "plt.show()\n",
    "\n",
    "plt.plot(range(len(train_acc)), train_acc, label=\"train accuracy\")\n",
    "plt.plot(range(len(valid_acc)), valid_acc, label=\"valid accuracy\")\n",
    "plt.legend()\n",
    "plt.title(\"Accuracy\")\n",
    "plt.show()"
   ]
  },
  {
   "cell_type": "code",
   "execution_count": null,
   "metadata": {},
   "outputs": [],
   "source": [
    "# 有運用 GPU 的執行速度是沒有用的3倍，所以有GPU對於機器學習的訓練速度真的非常重要，能省下不少時間\n",
    "# 訓練結果可以看到，此模型Overfitting非常嚴重"
   ]
  }
 ],
 "metadata": {
  "colab": {
   "name": "Day078_CheckBeforeTrain_作業 (更新).ipynb",
   "provenance": []
  },
  "kernelspec": {
   "display_name": "Python 3",
   "language": "python",
   "name": "python3"
  },
  "language_info": {
   "codemirror_mode": {
    "name": "ipython",
    "version": 3
   },
   "file_extension": ".py",
   "mimetype": "text/x-python",
   "name": "python",
   "nbconvert_exporter": "python",
   "pygments_lexer": "ipython3",
   "version": "3.8.8"
  }
 },
 "nbformat": 4,
 "nbformat_minor": 1
}
