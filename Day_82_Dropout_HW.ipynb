{
 "cells": [
  {
   "cell_type": "markdown",
   "metadata": {},
   "source": [
    "## Work\n",
    "1. 請比較使用不同神經元數量以及不同 Dropout rate 對訓練的效果\n",
    "2. 將 optimizer 改成使用 Adam 並加上適當的 dropout rate 檢視結果"
   ]
  },
  {
   "cell_type": "code",
   "execution_count": 1,
   "metadata": {},
   "outputs": [],
   "source": [
    "import os\n",
    "import keras\n",
    "import itertools\n",
    "from keras.datasets import cifar10\n",
    "# Disable GPU\n",
    "os.environ[\"CUDA_VISIBLE_DEVICES\"] = \"0\""
   ]
  },
  {
   "cell_type": "code",
   "execution_count": 2,
   "metadata": {},
   "outputs": [],
   "source": [
    "train, test = keras.datasets.cifar10.load_data()"
   ]
  },
  {
   "cell_type": "code",
   "execution_count": 3,
   "metadata": {},
   "outputs": [],
   "source": [
    "## 資料前處理\n",
    "def preproc_x(x, flatten=True):\n",
    "    x = x / 255.\n",
    "    if flatten:\n",
    "        x = x.reshape((len(x), -1))\n",
    "    return x\n",
    "\n",
    "def preproc_y(y, num_classes=10):\n",
    "    if y.shape[-1] == 1:\n",
    "        y = keras.utils.np_utils.to_categorical(y, num_classes)\n",
    "    return y    "
   ]
  },
  {
   "cell_type": "code",
   "execution_count": 4,
   "metadata": {},
   "outputs": [],
   "source": [
    "x_train, y_train = train\n",
    "x_test, y_test = test\n",
    "\n",
    "# Preproc the inputs\n",
    "x_train = preproc_x(x_train)\n",
    "x_test = preproc_x(x_test)\n",
    "\n",
    "# Preprc the outputs\n",
    "y_train = preproc_y(y_train)\n",
    "y_test = preproc_y(y_test)"
   ]
  },
  {
   "cell_type": "code",
   "execution_count": 5,
   "metadata": {},
   "outputs": [],
   "source": [
    "from keras.layers import Dropout\n",
    "\n",
    "#建立神經網路，並加入 dropout layer\n",
    "def build_mlp(input_shape, output_units=10, num_neurons=[1024, 512, 256], drp_ratio=0.4):\n",
    "    input_layer = keras.layers.Input(input_shape)\n",
    "    \n",
    "    for i, n_units in enumerate(num_neurons):\n",
    "        if i == 0:\n",
    "            x = keras.layers.Dense(units=n_units, \n",
    "                                   activation=\"relu\", \n",
    "                                   name=\"hidden_layer\"+str(i+1))(input_layer)\n",
    "            x = Dropout(drp_ratio)(x)\n",
    "        else:\n",
    "            x = keras.layers.Dense(units=n_units, \n",
    "                                   activation=\"relu\", \n",
    "                                   name=\"hidden_layer\"+str(i+1))(x)\n",
    "            x = Dropout(drp_ratio)(x)\n",
    "    \n",
    "    out = keras.layers.Dense(units=output_units, activation=\"softmax\", name=\"output\")(x)\n",
    "    \n",
    "    model = keras.models.Model(inputs=[input_layer], outputs=[out])\n",
    "    return model"
   ]
  },
  {
   "cell_type": "code",
   "execution_count": 6,
   "metadata": {},
   "outputs": [],
   "source": [
    "## 超參數設定\n",
    "LEARNING_RATE = 1e-3\n",
    "EPOCHS = 50\n",
    "BATCH_SIZE = 256\n",
    "MOMENTUM = 0.95\n",
    "Dropout_EXP = 0.25"
   ]
  },
  {
   "cell_type": "code",
   "execution_count": 8,
   "metadata": {
    "scrolled": true
   },
   "outputs": [
    {
     "name": "stdout",
     "output_type": "stream",
     "text": [
      "Model: \"model_1\"\n",
      "_________________________________________________________________\n",
      " Layer (type)                Output Shape              Param #   \n",
      "=================================================================\n",
      " input_2 (InputLayer)        [(None, 3072)]            0         \n",
      "                                                                 \n",
      " hidden_layer1 (Dense)       (None, 1024)              3146752   \n",
      "                                                                 \n",
      " dropout_3 (Dropout)         (None, 1024)              0         \n",
      "                                                                 \n",
      " hidden_layer2 (Dense)       (None, 512)               524800    \n",
      "                                                                 \n",
      " dropout_4 (Dropout)         (None, 512)               0         \n",
      "                                                                 \n",
      " hidden_layer3 (Dense)       (None, 256)               131328    \n",
      "                                                                 \n",
      " dropout_5 (Dropout)         (None, 256)               0         \n",
      "                                                                 \n",
      " output (Dense)              (None, 10)                2570      \n",
      "                                                                 \n",
      "=================================================================\n",
      "Total params: 3,805,450\n",
      "Trainable params: 3,805,450\n",
      "Non-trainable params: 0\n",
      "_________________________________________________________________\n",
      "Epoch 1/50\n",
      "196/196 [==============================] - 7s 34ms/step - loss: 2.0457 - accuracy: 0.2532 - val_loss: 1.8065 - val_accuracy: 0.3400\n",
      "Epoch 2/50\n",
      "196/196 [==============================] - 6s 32ms/step - loss: 1.8290 - accuracy: 0.3376 - val_loss: 1.7104 - val_accuracy: 0.3886\n",
      "Epoch 3/50\n",
      "196/196 [==============================] - 6s 30ms/step - loss: 1.7746 - accuracy: 0.3615 - val_loss: 1.6853 - val_accuracy: 0.4003\n",
      "Epoch 4/50\n",
      "196/196 [==============================] - 6s 30ms/step - loss: 1.7315 - accuracy: 0.3754 - val_loss: 1.6346 - val_accuracy: 0.4209\n",
      "Epoch 5/50\n",
      "196/196 [==============================] - 6s 30ms/step - loss: 1.6983 - accuracy: 0.3874 - val_loss: 1.6224 - val_accuracy: 0.4196\n",
      "Epoch 6/50\n",
      "196/196 [==============================] - 6s 30ms/step - loss: 1.6850 - accuracy: 0.3925 - val_loss: 1.6124 - val_accuracy: 0.4257\n",
      "Epoch 7/50\n",
      "196/196 [==============================] - 6s 32ms/step - loss: 1.6616 - accuracy: 0.4008 - val_loss: 1.5938 - val_accuracy: 0.4381\n",
      "Epoch 8/50\n",
      "196/196 [==============================] - 7s 34ms/step - loss: 1.6443 - accuracy: 0.4076 - val_loss: 1.5509 - val_accuracy: 0.4432\n",
      "Epoch 9/50\n",
      "196/196 [==============================] - 6s 31ms/step - loss: 1.6264 - accuracy: 0.4141 - val_loss: 1.5967 - val_accuracy: 0.4354\n",
      "Epoch 10/50\n",
      "196/196 [==============================] - 6s 31ms/step - loss: 1.6186 - accuracy: 0.4171 - val_loss: 1.5476 - val_accuracy: 0.4462\n",
      "Epoch 11/50\n",
      "196/196 [==============================] - 6s 31ms/step - loss: 1.5974 - accuracy: 0.4235 - val_loss: 1.5256 - val_accuracy: 0.4580\n",
      "Epoch 12/50\n",
      "196/196 [==============================] - 6s 32ms/step - loss: 1.5860 - accuracy: 0.4331 - val_loss: 1.5395 - val_accuracy: 0.4519\n",
      "Epoch 13/50\n",
      "196/196 [==============================] - 6s 31ms/step - loss: 1.5771 - accuracy: 0.4327 - val_loss: 1.5068 - val_accuracy: 0.4696\n",
      "Epoch 14/50\n",
      "196/196 [==============================] - 6s 32ms/step - loss: 1.5638 - accuracy: 0.4388 - val_loss: 1.5143 - val_accuracy: 0.4567\n",
      "Epoch 15/50\n",
      "196/196 [==============================] - 6s 31ms/step - loss: 1.5585 - accuracy: 0.4407 - val_loss: 1.5042 - val_accuracy: 0.4695\n",
      "Epoch 16/50\n",
      "196/196 [==============================] - 6s 31ms/step - loss: 1.5543 - accuracy: 0.4421 - val_loss: 1.5224 - val_accuracy: 0.4667\n",
      "Epoch 17/50\n",
      "196/196 [==============================] - 6s 31ms/step - loss: 1.5592 - accuracy: 0.4396 - val_loss: 1.4991 - val_accuracy: 0.4754\n",
      "Epoch 18/50\n",
      "196/196 [==============================] - 6s 31ms/step - loss: 1.5389 - accuracy: 0.4459 - val_loss: 1.4884 - val_accuracy: 0.4704\n",
      "Epoch 19/50\n",
      "196/196 [==============================] - 6s 31ms/step - loss: 1.5224 - accuracy: 0.4524 - val_loss: 1.4796 - val_accuracy: 0.4794\n",
      "Epoch 20/50\n",
      "196/196 [==============================] - 6s 31ms/step - loss: 1.5208 - accuracy: 0.4538 - val_loss: 1.4739 - val_accuracy: 0.4825\n",
      "Epoch 21/50\n",
      "196/196 [==============================] - 6s 31ms/step - loss: 1.5135 - accuracy: 0.4566 - val_loss: 1.4775 - val_accuracy: 0.4775\n",
      "Epoch 22/50\n",
      "196/196 [==============================] - 6s 31ms/step - loss: 1.5011 - accuracy: 0.4607 - val_loss: 1.4629 - val_accuracy: 0.4805\n",
      "Epoch 23/50\n",
      "196/196 [==============================] - 6s 31ms/step - loss: 1.5015 - accuracy: 0.4610 - val_loss: 1.4516 - val_accuracy: 0.4844\n",
      "Epoch 24/50\n",
      "196/196 [==============================] - 6s 31ms/step - loss: 1.4933 - accuracy: 0.4629 - val_loss: 1.4676 - val_accuracy: 0.4826\n",
      "Epoch 25/50\n",
      "196/196 [==============================] - 6s 31ms/step - loss: 1.4893 - accuracy: 0.4630 - val_loss: 1.4810 - val_accuracy: 0.4777\n",
      "Epoch 26/50\n",
      "196/196 [==============================] - 6s 31ms/step - loss: 1.4854 - accuracy: 0.4648 - val_loss: 1.4396 - val_accuracy: 0.4939\n",
      "Epoch 27/50\n",
      "196/196 [==============================] - 6s 31ms/step - loss: 1.4831 - accuracy: 0.4679 - val_loss: 1.4527 - val_accuracy: 0.4846\n",
      "Epoch 28/50\n",
      "196/196 [==============================] - 6s 32ms/step - loss: 1.4717 - accuracy: 0.4715 - val_loss: 1.4422 - val_accuracy: 0.4894\n",
      "Epoch 29/50\n",
      "196/196 [==============================] - 6s 32ms/step - loss: 1.4678 - accuracy: 0.4709 - val_loss: 1.4403 - val_accuracy: 0.4893\n",
      "Epoch 30/50\n",
      "196/196 [==============================] - 6s 31ms/step - loss: 1.4668 - accuracy: 0.4727 - val_loss: 1.4373 - val_accuracy: 0.4850\n",
      "Epoch 31/50\n",
      "196/196 [==============================] - 6s 31ms/step - loss: 1.4577 - accuracy: 0.4756 - val_loss: 1.4392 - val_accuracy: 0.4854\n",
      "Epoch 32/50\n",
      "196/196 [==============================] - 6s 31ms/step - loss: 1.4527 - accuracy: 0.4779 - val_loss: 1.4924 - val_accuracy: 0.4688\n",
      "Epoch 33/50\n",
      "196/196 [==============================] - 6s 31ms/step - loss: 1.4453 - accuracy: 0.4789 - val_loss: 1.4388 - val_accuracy: 0.4958\n",
      "Epoch 34/50\n",
      "196/196 [==============================] - 6s 31ms/step - loss: 1.4548 - accuracy: 0.4778 - val_loss: 1.4296 - val_accuracy: 0.5009\n",
      "Epoch 35/50\n",
      "196/196 [==============================] - 6s 32ms/step - loss: 1.4329 - accuracy: 0.4825 - val_loss: 1.4075 - val_accuracy: 0.5028\n",
      "Epoch 36/50\n",
      "196/196 [==============================] - 6s 32ms/step - loss: 1.4384 - accuracy: 0.4822 - val_loss: 1.4252 - val_accuracy: 0.4983\n",
      "Epoch 37/50\n",
      "196/196 [==============================] - 6s 32ms/step - loss: 1.4369 - accuracy: 0.4842 - val_loss: 1.4166 - val_accuracy: 0.5016\n",
      "Epoch 38/50\n",
      "196/196 [==============================] - 6s 32ms/step - loss: 1.4288 - accuracy: 0.4850 - val_loss: 1.4072 - val_accuracy: 0.5027\n",
      "Epoch 39/50\n",
      "196/196 [==============================] - 6s 31ms/step - loss: 1.4238 - accuracy: 0.4873 - val_loss: 1.4397 - val_accuracy: 0.4909\n",
      "Epoch 40/50\n",
      "196/196 [==============================] - 6s 31ms/step - loss: 1.4127 - accuracy: 0.4931 - val_loss: 1.4282 - val_accuracy: 0.4929\n",
      "Epoch 41/50\n",
      "196/196 [==============================] - 6s 31ms/step - loss: 1.4161 - accuracy: 0.4910 - val_loss: 1.4333 - val_accuracy: 0.4898\n",
      "Epoch 42/50\n",
      "196/196 [==============================] - 6s 31ms/step - loss: 1.4201 - accuracy: 0.4878 - val_loss: 1.4124 - val_accuracy: 0.4979\n",
      "Epoch 43/50\n",
      "196/196 [==============================] - 6s 31ms/step - loss: 1.4142 - accuracy: 0.4912 - val_loss: 1.4200 - val_accuracy: 0.4975\n",
      "Epoch 44/50\n",
      "196/196 [==============================] - 6s 31ms/step - loss: 1.4016 - accuracy: 0.4963 - val_loss: 1.4071 - val_accuracy: 0.5043\n",
      "Epoch 45/50\n",
      "196/196 [==============================] - 6s 31ms/step - loss: 1.3979 - accuracy: 0.4974 - val_loss: 1.4377 - val_accuracy: 0.4923\n",
      "Epoch 46/50\n",
      "196/196 [==============================] - 6s 31ms/step - loss: 1.3992 - accuracy: 0.4957 - val_loss: 1.4112 - val_accuracy: 0.5053\n",
      "Epoch 47/50\n",
      "196/196 [==============================] - 6s 31ms/step - loss: 1.3956 - accuracy: 0.4961 - val_loss: 1.4114 - val_accuracy: 0.5022\n"
     ]
    },
    {
     "name": "stdout",
     "output_type": "stream",
     "text": [
      "Epoch 48/50\n",
      "196/196 [==============================] - 6s 32ms/step - loss: 1.3853 - accuracy: 0.5013 - val_loss: 1.4184 - val_accuracy: 0.4984\n",
      "Epoch 49/50\n",
      "196/196 [==============================] - 6s 31ms/step - loss: 1.3883 - accuracy: 0.5006 - val_loss: 1.3916 - val_accuracy: 0.5080\n",
      "Epoch 50/50\n",
      "196/196 [==============================] - 6s 31ms/step - loss: 1.3856 - accuracy: 0.5006 - val_loss: 1.3976 - val_accuracy: 0.5061\n"
     ]
    }
   ],
   "source": [
    "import tensorflow as tf\n",
    "model = build_mlp(input_shape=x_train.shape[1:], drp_ratio=Dropout_EXP)\n",
    "model.summary()\n",
    "optimizer = tf.keras.optimizers.Adam(lr=LEARNING_RATE, beta_1=0.9, beta_2=0.999, epsilon=None, decay=0.0, amsgrad=False)\n",
    "model.compile(loss=\"categorical_crossentropy\", metrics=[\"accuracy\"], optimizer=optimizer)\n",
    "\n",
    "model.fit(x_train, y_train, \n",
    "          epochs=EPOCHS, \n",
    "          batch_size=BATCH_SIZE, \n",
    "          validation_data=(x_test, y_test), \n",
    "          shuffle=True)\n",
    "\n",
    "# Collect results\n",
    "train_loss = model.history.history[\"loss\"]\n",
    "valid_loss = model.history.history[\"val_loss\"]\n",
    "train_acc = model.history.history[\"accuracy\"]\n",
    "valid_acc = model.history.history[\"val_accuracy\"]"
   ]
  },
  {
   "cell_type": "code",
   "execution_count": 9,
   "metadata": {},
   "outputs": [
    {
     "data": {
      "image/png": "[encoded data removed]",
      "text/plain": [
       "<Figure size 432x288 with 1 Axes>"
      ]
     },
     "metadata": {
      "needs_background": "light"
     },
     "output_type": "display_data"
    },
    {
     "data": {
      "image/png": "[encoded data removed]",
      "text/plain": [
       "<Figure size 432x288 with 1 Axes>"
      ]
     },
     "metadata": {
      "needs_background": "light"
     },
     "output_type": "display_data"
    }
   ],
   "source": [
    "import matplotlib.pyplot as plt\n",
    "%matplotlib inline\n",
    "\n",
    "plt.plot(range(len(train_loss)), train_loss, label=\"train loss\")\n",
    "plt.plot(range(len(valid_loss)), valid_loss, label=\"valid loss\")\n",
    "plt.legend()\n",
    "plt.title(\"Loss\")\n",
    "plt.show()\n",
    "\n",
    "plt.plot(range(len(train_acc)), train_acc, label=\"train accuracy\")\n",
    "plt.plot(range(len(valid_acc)), valid_acc, label=\"valid accuracy\")\n",
    "plt.legend()\n",
    "plt.title(\"Accuracy\")\n",
    "plt.show()"
   ]
  },
  {
   "cell_type": "code",
   "execution_count": null,
   "metadata": {},
   "outputs": [],
   "source": [
    "# dropout=0.4, optimizers=Adam, 隱藏層神經元數量多一倍, 在Accuracy的結果上似乎比範例的結果稍差了一點"
   ]
  }
 ],
 "metadata": {
  "kernelspec": {
   "display_name": "Python 3",
   "language": "python",
   "name": "python3"
  },
  "language_info": {
   "codemirror_mode": {
    "name": "ipython",
    "version": 3
   },
   "file_extension": ".py",
   "mimetype": "text/x-python",
   "name": "python",
   "nbconvert_exporter": "python",
   "pygments_lexer": "ipython3",
   "version": "3.8.8"
  }
 },
 "nbformat": 4,
 "nbformat_minor": 2
}
