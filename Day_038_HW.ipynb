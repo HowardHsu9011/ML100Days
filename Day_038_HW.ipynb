{
 "cells": [
  {
   "cell_type": "markdown",
   "metadata": {},
   "source": [
    "## [作業重點]\n",
    "使用 Sklearn 中的線性迴歸模型，來訓練各種資料集，務必了解送進去模型訓練的**資料型態**為何，也請了解模型中各項參數的意義"
   ]
  },
  {
   "cell_type": "markdown",
   "metadata": {},
   "source": [
    "## 作業\n",
    "試著使用 sklearn datasets 的其他資料集 (wine, boston, ...)，來訓練自己的線性迴歸模型。"
   ]
  },
  {
   "cell_type": "markdown",
   "metadata": {},
   "source": [
    "### HINT: 注意 label 的型態，確定資料集的目標是分類還是回歸，在使用正確的模型訓練！"
   ]
  },
  {
   "cell_type": "code",
   "execution_count": 11,
   "metadata": {},
   "outputs": [],
   "source": [
    "import numpy as np\n",
    "from sklearn import datasets\n",
    "from sklearn.linear_model import LinearRegression , LogisticRegression\n",
    "from sklearn.model_selection import train_test_split\n",
    "from sklearn.metrics import mean_squared_error, roc_auc_score , accuracy_score ,f1_score"
   ]
  },
  {
   "cell_type": "code",
   "execution_count": 12,
   "metadata": {},
   "outputs": [],
   "source": [
    "wine = datasets.load_wine()\n",
    "boston = datasets.load_boston()\n",
    "breast_cancer = datasets.load_breast_cancer()"
   ]
  },
  {
   "cell_type": "code",
   "execution_count": 14,
   "metadata": {},
   "outputs": [
    {
     "data": {
      "text/plain": [
       "array([11.46030778, 26.80269335, 17.43478925, 17.5563101 , 37.39156424,\n",
       "       25.07675556, 31.05825852, 20.30845531, 19.66757374, 22.82655375,\n",
       "       28.47083056, 28.53331605, 18.72883256, 33.11375161, 21.34282974,\n",
       "       15.20554693, 21.57309275, 10.92841589, 11.69603405, 13.54311508,\n",
       "        5.07126801, 17.40464043, 20.69379268, 22.72981238, 16.4634139 ,\n",
       "       20.42666271, 17.53377349, 14.22644356, 21.56292745, 17.33136115,\n",
       "       14.28888479, 23.92829804, 34.31523522, 22.03799035, 17.47895779,\n",
       "       20.20386005, 30.70896335, 35.21599528, 24.07063567, 24.51445184,\n",
       "       36.77425366, 33.15265201, 19.67545976, 31.93505104, 33.55222906,\n",
       "       25.59147737, 40.59239607, 17.99555017, 19.92780188, 23.65319423,\n",
       "       33.48950986])"
      ]
     },
     "execution_count": 14,
     "metadata": {},
     "output_type": "execute_result"
    }
   ],
   "source": [
    "# 將資料放入x\n",
    "x = boston.data\n",
    "# 將目標值放入y\n",
    "y = boston.target\n",
    "# 將資料切割成 trainning data 以及　testing data\n",
    "x_train, x_test, y_train, y_test = train_test_split(x,y,test_size=0.1, random_state=4)\n",
    "# 載入linearRegression，因boston的資料是連續性的變數，所以是回歸問題\n",
    "lr = LinearRegression()\n",
    "# 將資料放入LinearRegression模組訓練\n",
    "lr.fit(x_train, y_train)\n",
    "y_pred = lr.predict(x_test)\n",
    "y_pred"
   ]
  },
  {
   "cell_type": "code",
   "execution_count": 18,
   "metadata": {},
   "outputs": [
    {
     "name": "stdout",
     "output_type": "stream",
     "text": [
      "MSE: 17.038701324921963\n"
     ]
    }
   ],
   "source": [
    "# 預測值與實際值的差距，使用 MSE\n",
    "print('MSE:',mean_squared_error(y_test , y_pred))"
   ]
  },
  {
   "cell_type": "code",
   "execution_count": 25,
   "metadata": {},
   "outputs": [
    {
     "name": "stderr",
     "output_type": "stream",
     "text": [
      "C:\\Users\\TB890239\\Anaconda3\\lib\\site-packages\\sklearn\\linear_model\\_logistic.py:763: ConvergenceWarning: lbfgs failed to converge (status=1):\n",
      "STOP: TOTAL NO. of ITERATIONS REACHED LIMIT.\n",
      "\n",
      "Increase the number of iterations (max_iter) or scale the data as shown in:\n",
      "    https://scikit-learn.org/stable/modules/preprocessing.html\n",
      "Please also refer to the documentation for alternative solver options:\n",
      "    https://scikit-learn.org/stable/modules/linear_model.html#logistic-regression\n",
      "  n_iter_i = _check_optimize_result(\n"
     ]
    },
    {
     "data": {
      "text/plain": [
       "array([2, 1, 0, 0, 1, 2, 0, 0, 0, 1, 1, 0, 2, 2, 0, 1, 0, 1, 1, 2, 1, 2,\n",
       "       1, 2, 0, 2, 1, 1, 2, 2, 0, 1, 0, 1, 2, 2])"
      ]
     },
     "execution_count": 25,
     "metadata": {},
     "output_type": "execute_result"
    }
   ],
   "source": [
    "# wine的target值是分類問題，用LogisticRegression\n",
    "x = wine.data\n",
    "y = wine.target\n",
    "# 將資料切割成 trainning data 以及　testing data\n",
    "x_train, x_test, y_train, y_test = train_test_split(x,y,test_size=0.2, random_state=4)\n",
    "# 載入LogisticRegression\n",
    "lgist = LogisticRegression()\n",
    "# 將資料放入LogisticRegression模組訓練\n",
    "lgist.fit(x_train, y_train)\n",
    "y_pred = lgist.predict(x_test)\n",
    "y_pred"
   ]
  },
  {
   "cell_type": "code",
   "execution_count": 26,
   "metadata": {},
   "outputs": [
    {
     "name": "stdout",
     "output_type": "stream",
     "text": [
      "Accuracy:  0.9444444444444444\n"
     ]
    }
   ],
   "source": [
    "acc = accuracy_score(y_test, y_pred)\n",
    "print(\"Accuracy: \", acc)"
   ]
  }
 ],
 "metadata": {
  "kernelspec": {
   "display_name": "Python 3",
   "language": "python",
   "name": "python3"
  },
  "language_info": {
   "codemirror_mode": {
    "name": "ipython",
    "version": 3
   },
   "file_extension": ".py",
   "mimetype": "text/x-python",
   "name": "python",
   "nbconvert_exporter": "python",
   "pygments_lexer": "ipython3",
   "version": "3.8.8"
  }
 },
 "nbformat": 4,
 "nbformat_minor": 2
}
