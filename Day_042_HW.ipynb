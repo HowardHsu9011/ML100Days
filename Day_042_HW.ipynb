{
 "cells": [
  {
   "cell_type": "markdown",
   "metadata": {},
   "source": [
    "## [作業重點]\n",
    "目前你應該已經要很清楚資料集中，資料的型態是什麼樣子囉！包含特徵 (features) 與標籤 (labels)。因此要記得未來不管什麼專案，必須要把資料清理成相同的格式，才能送進模型訓練。\n",
    "今天的作業開始踏入決策樹這個非常重要的模型，請務必確保你理解模型中每個超參數的意思，並試著調整看看，對最終預測結果的影響為何"
   ]
  },
  {
   "cell_type": "markdown",
   "metadata": {},
   "source": [
    "## 作業\n",
    "\n",
    "1. 試著調整 DecisionTreeClassifier(...) 中的參數，並觀察是否會改變結果？\n",
    "2. 改用其他資料集 (boston, wine)，並與回歸模型的結果進行比較"
   ]
  },
  {
   "cell_type": "code",
   "execution_count": 23,
   "metadata": {},
   "outputs": [],
   "source": [
    "from sklearn import datasets, metrics\n",
    "\n",
    "# 如果是分類問題，請使用 DecisionTreeClassifier，若為回歸問題，請使用 DecisionTreeRegressor\n",
    "from sklearn.tree import DecisionTreeClassifier, DecisionTreeRegressor\n",
    "from sklearn.model_selection import train_test_split\n",
    "from sklearn.metrics import mean_squared_error, roc_auc_score , accuracy_score ,f1_score"
   ]
  },
  {
   "cell_type": "code",
   "execution_count": 31,
   "metadata": {},
   "outputs": [
    {
     "data": {
      "text/plain": [
       "array([22.2, 28.7, 23.8,  8.1, 22.2,  6.3, 22.1, 17.5, 48.3, 16.7, 26.6,\n",
       "        8.5, 14.5, 23.7, 37.2, 41.7, 16.5, 21.7, 22.7, 23. , 10.5, 21.9,\n",
       "       21. , 20.4, 21.8, 50. , 22. , 23.3, 37.3, 18. , 19.2, 34.9, 13.4,\n",
       "       22.9, 22.5, 13. , 24.6, 18.3, 18.1, 23.9, 50. , 13.6, 22.9, 10.9,\n",
       "       18.9, 22.4, 22.9, 44.8, 21.7, 10.2, 15.4, 25.3, 23.3,  7.2, 21.2,\n",
       "       11.7, 27. , 29.6, 26.5, 43.5, 23.6, 11. , 33.4, 36. , 36.4, 19. ,\n",
       "       20.2, 34.9, 50. , 19.3, 14.9, 26.6, 19.9, 24.8, 21.2, 23.9, 20.6,\n",
       "       23.1, 28. , 20. , 23.1, 25. ,  9.7, 23.9, 36.1, 13.4, 12.7, 39.8,\n",
       "       10.4, 20.6, 17.8, 19.5, 23.7, 28.5, 24.3, 23.8, 19.1, 28.4, 20.5,\n",
       "       33.8, 14.5, 20.4, 16. , 13.3, 30.8, 27.5, 24.4, 24.4, 25.1, 43.8,\n",
       "       21.9, 26.2, 14.2, 20.8, 20.1, 23.1, 13.1, 16.2, 24.8, 20.2, 22.5,\n",
       "       14.8, 28.7, 20.1, 23.4, 32. , 19.1, 50. , 20.9, 21.7, 22. , 17.2,\n",
       "       30.3, 12.3, 21.4, 20.5, 35.2, 19.6, 22. , 21.7, 14.1, 21.1, 15. ,\n",
       "       11.9, 20. , 41.3, 18.7, 50. , 50. , 18.4, 17.9, 28.1, 16.1, 17.2,\n",
       "       28.6, 23.6, 20.4, 19.6, 18.8, 22.6, 17.7, 30.5, 18.2, 20.6, 24.4,\n",
       "       17.3, 13.3, 22.8, 20.5, 21.2, 18.8, 18.9, 18.2, 23.1, 32.7, 24. ,\n",
       "       10.2, 19.5, 33.1, 13.4, 15.2, 24.8, 24.3,  9.5, 24.2, 18.5, 44. ,\n",
       "       50. , 24.7, 21.5,  8.4, 21.8, 50. , 23.8, 32.4, 24.4, 17.6, 29.8,\n",
       "        9.6, 16.7, 13.8, 32. , 16.1,  8.3, 26.6, 14.3, 15. , 28.4, 32.2,\n",
       "       17.1, 29.4, 10.4, 16.8, 31.5, 27.5, 46.7, 27.5, 17.2, 23.4, 31.6,\n",
       "       13.8, 22. , 17. , 24.8, 24.3, 25.2, 21.2, 20.6, 18.7,  5.6, 19.3,\n",
       "       19.8, 22.3, 20.3, 12. , 23.9, 16.5, 13.2, 33.2, 10.5,  7.5, 27.5,\n",
       "       18.4, 23.2, 13.8, 35.4, 23. , 25. ,  7.2, 14.4,  8.8, 22.7, 13.1,\n",
       "       18.9, 25. ,  8.5, 16.1, 29. , 23.1, 19.3, 33.1, 24.6, 23. , 15.2,\n",
       "       27.1, 19.6, 24.5, 20.3, 34.9, 17.1, 15.6, 26.4, 22.6, 15.6, 29. ,\n",
       "       21.2, 22.4, 13.5, 11.7, 17.1, 31.7, 28.7, 24.7, 19. ,  7.2, 13.8,\n",
       "       12.8, 36.2, 38.7, 18.5, 29.1, 20.4, 11.3, 17.4,  8.7, 18.9, 23.2,\n",
       "       22.2, 29.1, 34.6, 25. , 23.2, 37.9,  7. , 18.2, 19.3, 26.7, 19.2,\n",
       "       30.1, 20.6, 50. , 18.7, 20.6, 31.1, 14. , 17.8, 42.3, 15.3, 18.5,\n",
       "       21.4, 15. , 20.7, 21.4, 21.7, 22. , 31.6, 22. , 10.2, 22.6, 20. ,\n",
       "       17.8, 13.6, 11.8, 19.4, 21.4, 32.9, 20.8, 31. , 17.5, 15.4, 10.8,\n",
       "       34.7, 25. , 48.8, 42.8, 19.5, 30.1, 22.2, 50. , 23.1, 32.5, 19.6,\n",
       "       14.9, 26.4, 37. , 24.1, 24.5, 23.7,  7. , 22.2, 23.3, 15.6, 13.4,\n",
       "       30.7, 22.3, 17.4, 50. , 22.9, 19.7, 15.6, 17.8, 10.9, 35.1, 15.7,\n",
       "       50. , 22.8, 19.9, 20.1, 19.4, 46. , 23.2, 37.6, 23.1, 13.9, 33.3,\n",
       "       33. , 19.9, 20.3, 50. , 19.4, 19.5, 22.8, 16.6, 20. , 24.7, 45.4,\n",
       "       33.4, 21.4, 19.4,  5. ,  7.4, 20.1, 12.7, 20.3, 14.1, 18.3, 19.9,\n",
       "       23.3, 36.5, 20. , 17.8,  8.8, 21.6, 21.6, 15.2, 19.8, 21. , 27.1,\n",
       "       16.8, 14.4, 22.5, 18.6, 20.1, 19.6, 25. , 17.4, 19.7,  5. , 16.3,\n",
       "       13.1, 29.6, 13.1, 19.1, 12.1, 21.7, 21.9, 33.2, 29.9, 35.4, 15.1,\n",
       "       31.5, 21.7, 16.4, 14.3, 11.8, 14.1, 21.1, 18.4, 48.5, 13.8, 20.9,\n",
       "       22.8, 12.5, 24. , 21. ])"
      ]
     },
     "execution_count": 31,
     "metadata": {},
     "output_type": "execute_result"
    }
   ],
   "source": [
    "boston = datasets.load_boston()\n",
    "x_train, x_test, y_train, y_test = train_test_split(boston.data, boston.target, test_size = 0.1 , random_state = 1)\n",
    "y_train\n",
    "# boston的資料是連續型，所以是回歸模型，要用　DecisionTreeRegressor"
   ]
  },
  {
   "cell_type": "code",
   "execution_count": 32,
   "metadata": {},
   "outputs": [],
   "source": [
    "clf = DecisionTreeRegressor()\n",
    "# 將資料放入 DecisionTreeRegressor 模組訓練\n",
    "clf.fit(x_train, y_train)\n",
    "# 將測試資料丟入訓練好的模型產生預測值y_pred\n",
    "y_pred = clf.predict(x_test)"
   ]
  },
  {
   "cell_type": "code",
   "execution_count": 33,
   "metadata": {},
   "outputs": [
    {
     "name": "stdout",
     "output_type": "stream",
     "text": [
      "MSE: 10.796078431372552\n"
     ]
    }
   ],
   "source": [
    "# 預測值與實際值的差距，使用 MSE\n",
    "print('MSE:',mean_squared_error(y_test , y_pred))"
   ]
  },
  {
   "cell_type": "code",
   "execution_count": 76,
   "metadata": {},
   "outputs": [
    {
     "data": {
      "text/plain": [
       "array([2, 1, 0, 1, 0, 2, 1, 0, 2, 1, 0, 0, 1, 0, 1, 1, 2, 0])"
      ]
     },
     "execution_count": 76,
     "metadata": {},
     "output_type": "execute_result"
    }
   ],
   "source": [
    "wine = datasets.load_wine()\n",
    "x_train, x_test, y_train, y_test = train_test_split(wine.data, wine.target, test_size = 0.1 , random_state = 1)\n",
    "y_test\n",
    "# wine 資料要用分類模型，DecisionTreeClassifier"
   ]
  },
  {
   "cell_type": "code",
   "execution_count": 77,
   "metadata": {},
   "outputs": [],
   "source": [
    "dtc = DecisionTreeClassifier()\n",
    "# 將資料放入 DecisionTreeClassifier 模組訓練\n",
    "dtc.fit(x_train, y_train)\n",
    "# 將測試資料丟入訓練好的模型產生預測值y_pred\n",
    "y_pred = dtc.predict(x_test)"
   ]
  },
  {
   "cell_type": "code",
   "execution_count": 78,
   "metadata": {},
   "outputs": [
    {
     "name": "stdout",
     "output_type": "stream",
     "text": [
      "Accuracy 0.9444444444444444\n"
     ]
    }
   ],
   "source": [
    "# 將實際的目標值與預測值打一個準確度分數\n",
    "print('Accuracy',accuracy_score(y_test, y_pred))"
   ]
  }
 ],
 "metadata": {
  "kernelspec": {
   "display_name": "Python 3",
   "language": "python",
   "name": "python3"
  },
  "language_info": {
   "codemirror_mode": {
    "name": "ipython",
    "version": 3
   },
   "file_extension": ".py",
   "mimetype": "text/x-python",
   "name": "python",
   "nbconvert_exporter": "python",
   "pygments_lexer": "ipython3",
   "version": "3.8.8"
  }
 },
 "nbformat": 4,
 "nbformat_minor": 2
}
