{
 "cells": [
  {
   "cell_type": "markdown",
   "metadata": {},
   "source": [
    "## [作業目標]\n",
    "了解機器學習適合應用的領域與範疇。"
   ]
  },
  {
   "cell_type": "markdown",
   "metadata": {},
   "source": [
    "## [作業重點]\n",
    "透過瞭解機器學習的運作方式，找出非常適用機器學習應用的領域及其原因"
   ]
  },
  {
   "cell_type": "markdown",
   "metadata": {},
   "source": [
    "## 作業\n",
    "請找出一個你認為機器學習可以發光發熱的領域並闡述原因? "
   ]
  },
  {
   "cell_type": "code",
   "execution_count": null,
   "metadata": {},
   "outputs": [],
   "source": [
    "機器學習可以適合處理的問題\n",
    "1. 處理非常複雜的邏輯\n",
    "2. 大規模的服務\n",
    "3. 需要客製化\n",
    "4. 隨著時間改變\n",
    "    \n",
    "可以發光發熱的領域:自動駕駛人工智慧系統\n",
    "原因：如Tesla目前正在做的自駕系統一樣，雖然目前還沒辦法完全自動駕駛，但隨著越來越多的車主加入，就有越來越多的資料被蒐集\n",
    "自駕系統要處理非常多的input，根據這麼多不同的input，產生非常複雜的output去調整速度、煞車與否，又必須兼具舒適性等，道路\n",
    "狀況會隨著時間改變，車子的狀況也會隨著時間的改變，根據車主習慣也需要客製化，也許有些參數需要開放給車主去調整，所以在自動\n",
    "駕駛領域，可以預期的是機器學習會在此大放光明，越來越多人會體會到機器學習的奧妙與美妙，深深的感謝這樣的技術的誕生，帶給人\n",
    "們更方便的生活，釋放人們更多的時間與精力，能創造更高的價值。"
   ]
  }
 ],
 "metadata": {
  "kernelspec": {
   "display_name": "Python 3",
   "language": "python",
   "name": "python3"
  },
  "language_info": {
   "codemirror_mode": {
    "name": "ipython",
    "version": 3
   },
   "file_extension": ".py",
   "mimetype": "text/x-python",
   "name": "python",
   "nbconvert_exporter": "python",
   "pygments_lexer": "ipython3",
   "version": "3.8.8"
  }
 },
 "nbformat": 4,
 "nbformat_minor": 2
}
