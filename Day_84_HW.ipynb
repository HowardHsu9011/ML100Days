{
 "cells": [
  {
   "cell_type": "markdown",
   "metadata": {},
   "source": [
    "## Work\n",
    "### 請結合前面的知識與程式碼，比較不同的 regularization 的組合對訓練的結果與影響：如 dropout, regularizers, batch-normalization 等"
   ]
  },
  {
   "cell_type": "code",
   "execution_count": 1,
   "metadata": {},
   "outputs": [],
   "source": [
    "import os\n",
    "import keras\n",
    "import itertools\n",
    "from keras.datasets import cifar10\n",
    "# Disable GPU\n",
    "os.environ[\"CUDA_VISIBLE_DEVICES\"] = \"0\""
   ]
  },
  {
   "cell_type": "code",
   "execution_count": 2,
   "metadata": {},
   "outputs": [],
   "source": [
    "train, test = keras.datasets.cifar10.load_data()"
   ]
  },
  {
   "cell_type": "code",
   "execution_count": 3,
   "metadata": {},
   "outputs": [],
   "source": [
    "## 資料前處理\n",
    "def preproc_x(x, flatten=True):\n",
    "    x = x / 255.\n",
    "    if flatten:\n",
    "        x = x.reshape((len(x), -1))\n",
    "    return x\n",
    "\n",
    "def preproc_y(y, num_classes=10):\n",
    "    if y.shape[-1] == 1:\n",
    "        y = keras.utils.np_utils.to_categorical(y, num_classes)\n",
    "    return y    "
   ]
  },
  {
   "cell_type": "code",
   "execution_count": 4,
   "metadata": {},
   "outputs": [],
   "source": [
    "x_train, y_train = train\n",
    "x_test, y_test = test\n",
    "\n",
    "# Preproc the inputs\n",
    "x_train = preproc_x(x_train)\n",
    "x_test = preproc_x(x_test)\n",
    "\n",
    "# Preprc the outputs\n",
    "y_train = preproc_y(y_train)\n",
    "y_test = preproc_y(y_test)"
   ]
  },
  {
   "cell_type": "code",
   "execution_count": 7,
   "metadata": {},
   "outputs": [],
   "source": [
    "from keras.layers import BatchNormalization, Activation\n",
    "from keras.layers import Dropout\n",
    "from keras.regularizers import l1, l2, l1_l2\n",
    "# 建立神經網路\n",
    "# 使用batch-normalization, 不使用Dropout會Overfitting, 那加入regularization呢?\n",
    "def build_mlp(input_shape, regularization, ratio, output_units=10, num_neurons=[512, 256, 128]):\n",
    "    input_layer = keras.layers.Input(input_shape)\n",
    "    for i, n_units in enumerate(num_neurons):\n",
    "        if i == 0:\n",
    "            x = keras.layers.Dense(units=n_units, activation=\"relu\", name=\"hidden_layer\"+str(i+1),\n",
    "                                   kernel_regularizer=l1_l2(ratio))(input_layer)\n",
    "            x = BatchNormalization()(x)\n",
    "        else:\n",
    "            x = keras.layers.Dense(units=n_units, activation=\"relu\", name=\"hidden_layer\"+str(i+1),\n",
    "                                   kernel_regularizer=l1_l2(ratio))(x)\n",
    "            x = BatchNormalization()(x)\n",
    "                \n",
    "    out = keras.layers.Dense(units=output_units, activation=\"softmax\", name=\"output\")(x)\n",
    "    \n",
    "    model = keras.models.Model(inputs=[input_layer], outputs=[out])\n",
    "    return model"
   ]
  },
  {
   "cell_type": "code",
   "execution_count": 12,
   "metadata": {},
   "outputs": [],
   "source": [
    "\"\"\"Code Here\n",
    "設定超參數\n",
    "\"\"\"\n",
    "LEARNING_RATE = 1e-3\n",
    "EPOCHS = 50\n",
    "BATCH_SIZE = 256\n",
    "MOMENTUM = 0.95\n",
    "DROPOUT = [True, False]"
   ]
  },
  {
   "cell_type": "code",
   "execution_count": 13,
   "metadata": {
    "scrolled": true
   },
   "outputs": [
    {
     "name": "stdout",
     "output_type": "stream",
     "text": [
      "Model: \"model_1\"\n",
      "_________________________________________________________________\n",
      " Layer (type)                Output Shape              Param #   \n",
      "=================================================================\n",
      " input_2 (InputLayer)        [(None, 3072)]            0         \n",
      "                                                                 \n",
      " hidden_layer1 (Dense)       (None, 512)               1573376   \n",
      "                                                                 \n",
      " batch_normalization_3 (Batc  (None, 512)              2048      \n",
      " hNormalization)                                                 \n",
      "                                                                 \n",
      " hidden_layer2 (Dense)       (None, 256)               131328    \n",
      "                                                                 \n",
      " batch_normalization_4 (Batc  (None, 256)              1024      \n",
      " hNormalization)                                                 \n",
      "                                                                 \n",
      " hidden_layer3 (Dense)       (None, 128)               32896     \n",
      "                                                                 \n",
      " batch_normalization_5 (Batc  (None, 128)              512       \n",
      " hNormalization)                                                 \n",
      "                                                                 \n",
      " output (Dense)              (None, 10)                1290      \n",
      "                                                                 \n",
      "=================================================================\n",
      "Total params: 1,742,474\n",
      "Trainable params: 1,740,682\n",
      "Non-trainable params: 1,792\n",
      "_________________________________________________________________\n"
     ]
    },
    {
     "name": "stderr",
     "output_type": "stream",
     "text": [
      "C:\\Users\\TB890239\\Anaconda3\\lib\\site-packages\\keras\\optimizer_v2\\adam.py:105: UserWarning: The `lr` argument is deprecated, use `learning_rate` instead.\n",
      "  super(Adam, self).__init__(name, **kwargs)\n"
     ]
    },
    {
     "name": "stdout",
     "output_type": "stream",
     "text": [
      "Epoch 1/50\n",
      "196/196 [==============================] - 9s 41ms/step - loss: 7.9410 - accuracy: 0.3854 - val_loss: 4.0078 - val_accuracy: 0.1715\n",
      "Epoch 2/50\n",
      "196/196 [==============================] - 7s 38ms/step - loss: 2.8097 - accuracy: 0.4034 - val_loss: 3.1288 - val_accuracy: 0.2131\n",
      "Epoch 3/50\n",
      "196/196 [==============================] - 8s 40ms/step - loss: 2.3989 - accuracy: 0.4103 - val_loss: 2.8753 - val_accuracy: 0.1907\n",
      "Epoch 4/50\n",
      "196/196 [==============================] - 8s 39ms/step - loss: 2.2323 - accuracy: 0.4209 - val_loss: 3.9181 - val_accuracy: 0.1460\n",
      "Epoch 5/50\n",
      "196/196 [==============================] - 8s 40ms/step - loss: 2.1897 - accuracy: 0.4273 - val_loss: 2.6852 - val_accuracy: 0.2268\n",
      "Epoch 6/50\n",
      "196/196 [==============================] - 8s 39ms/step - loss: 2.1480 - accuracy: 0.4329 - val_loss: 3.5561 - val_accuracy: 0.1698\n",
      "Epoch 7/50\n",
      "196/196 [==============================] - 8s 42ms/step - loss: 2.1221 - accuracy: 0.4383 - val_loss: 3.3248 - val_accuracy: 0.1813\n",
      "Epoch 8/50\n",
      "196/196 [==============================] - 8s 43ms/step - loss: 2.0951 - accuracy: 0.4407 - val_loss: 2.8936 - val_accuracy: 0.2403\n",
      "Epoch 9/50\n",
      "196/196 [==============================] - 8s 41ms/step - loss: 2.0585 - accuracy: 0.4466 - val_loss: 3.3222 - val_accuracy: 0.2019\n",
      "Epoch 10/50\n",
      "196/196 [==============================] - 8s 42ms/step - loss: 2.0430 - accuracy: 0.4463 - val_loss: 2.6280 - val_accuracy: 0.2632\n",
      "Epoch 11/50\n",
      "196/196 [==============================] - 8s 41ms/step - loss: 2.0140 - accuracy: 0.4551 - val_loss: 2.9606 - val_accuracy: 0.2409\n",
      "Epoch 12/50\n",
      "196/196 [==============================] - 8s 41ms/step - loss: 1.9990 - accuracy: 0.4572 - val_loss: 2.9030 - val_accuracy: 0.2598\n",
      "Epoch 13/50\n",
      "196/196 [==============================] - 8s 41ms/step - loss: 1.9781 - accuracy: 0.4578 - val_loss: 4.1788 - val_accuracy: 0.1799\n",
      "Epoch 14/50\n",
      "196/196 [==============================] - 8s 41ms/step - loss: 1.9573 - accuracy: 0.4649 - val_loss: 2.6541 - val_accuracy: 0.2702\n",
      "Epoch 15/50\n",
      "196/196 [==============================] - 8s 41ms/step - loss: 1.9591 - accuracy: 0.4682 - val_loss: 2.5024 - val_accuracy: 0.2901\n",
      "Epoch 16/50\n",
      "196/196 [==============================] - 8s 41ms/step - loss: 1.9187 - accuracy: 0.4711 - val_loss: 2.8627 - val_accuracy: 0.2712\n",
      "Epoch 17/50\n",
      "196/196 [==============================] - 8s 42ms/step - loss: 1.8878 - accuracy: 0.4751 - val_loss: 2.8165 - val_accuracy: 0.2745\n",
      "Epoch 18/50\n",
      "196/196 [==============================] - 9s 44ms/step - loss: 1.8746 - accuracy: 0.4755 - val_loss: 2.3006 - val_accuracy: 0.3142\n",
      "Epoch 19/50\n",
      "196/196 [==============================] - 8s 42ms/step - loss: 1.8392 - accuracy: 0.4768 - val_loss: 2.4509 - val_accuracy: 0.2866\n",
      "Epoch 20/50\n",
      "196/196 [==============================] - 8s 41ms/step - loss: 1.8073 - accuracy: 0.4819 - val_loss: 2.1317 - val_accuracy: 0.3808\n",
      "Epoch 21/50\n",
      "196/196 [==============================] - 8s 41ms/step - loss: 1.7824 - accuracy: 0.4842 - val_loss: 2.1112 - val_accuracy: 0.3743\n",
      "Epoch 22/50\n",
      "196/196 [==============================] - 8s 41ms/step - loss: 1.7751 - accuracy: 0.4865 - val_loss: 2.9440 - val_accuracy: 0.2710\n",
      "Epoch 23/50\n",
      "196/196 [==============================] - 8s 41ms/step - loss: 1.7524 - accuracy: 0.4866 - val_loss: 2.4756 - val_accuracy: 0.2715\n",
      "Epoch 24/50\n",
      "196/196 [==============================] - 8s 41ms/step - loss: 1.7311 - accuracy: 0.4884 - val_loss: 2.3171 - val_accuracy: 0.3089\n",
      "Epoch 25/50\n",
      "196/196 [==============================] - 8s 41ms/step - loss: 1.6979 - accuracy: 0.4923 - val_loss: 2.3932 - val_accuracy: 0.3208\n",
      "Epoch 26/50\n",
      "196/196 [==============================] - 8s 41ms/step - loss: 1.6984 - accuracy: 0.4911 - val_loss: 2.0897 - val_accuracy: 0.3561\n",
      "Epoch 27/50\n",
      "196/196 [==============================] - 8s 41ms/step - loss: 1.6827 - accuracy: 0.4938 - val_loss: 2.3267 - val_accuracy: 0.3331\n",
      "Epoch 28/50\n",
      "196/196 [==============================] - 8s 41ms/step - loss: 1.6687 - accuracy: 0.4943 - val_loss: 2.1095 - val_accuracy: 0.3508\n",
      "Epoch 29/50\n",
      "196/196 [==============================] - 9s 46ms/step - loss: 1.6448 - accuracy: 0.4971 - val_loss: 1.9785 - val_accuracy: 0.3905\n",
      "Epoch 30/50\n",
      "196/196 [==============================] - 9s 43ms/step - loss: 1.6361 - accuracy: 0.4982 - val_loss: 2.2322 - val_accuracy: 0.3290\n",
      "Epoch 31/50\n",
      "196/196 [==============================] - 8s 41ms/step - loss: 1.6245 - accuracy: 0.5015 - val_loss: 1.9929 - val_accuracy: 0.3865\n",
      "Epoch 32/50\n",
      "196/196 [==============================] - 8s 41ms/step - loss: 1.6229 - accuracy: 0.5011 - val_loss: 2.0690 - val_accuracy: 0.3703\n",
      "Epoch 33/50\n",
      "196/196 [==============================] - 8s 41ms/step - loss: 1.6178 - accuracy: 0.5007 - val_loss: 2.3644 - val_accuracy: 0.3057\n",
      "Epoch 34/50\n",
      "196/196 [==============================] - 8s 41ms/step - loss: 1.6045 - accuracy: 0.5046 - val_loss: 2.5102 - val_accuracy: 0.3030\n",
      "Epoch 35/50\n",
      "196/196 [==============================] - 8s 41ms/step - loss: 1.5976 - accuracy: 0.5038 - val_loss: 1.8732 - val_accuracy: 0.4015\n",
      "Epoch 36/50\n",
      "196/196 [==============================] - 8s 41ms/step - loss: 1.5955 - accuracy: 0.5063 - val_loss: 1.8586 - val_accuracy: 0.4327\n",
      "Epoch 37/50\n",
      "196/196 [==============================] - 8s 42ms/step - loss: 1.5930 - accuracy: 0.5050 - val_loss: 2.2722 - val_accuracy: 0.3271\n",
      "Epoch 38/50\n",
      "196/196 [==============================] - 8s 42ms/step - loss: 1.6091 - accuracy: 0.5006 - val_loss: 2.0611 - val_accuracy: 0.3606\n",
      "Epoch 39/50\n",
      "196/196 [==============================] - 8s 41ms/step - loss: 1.5997 - accuracy: 0.5062 - val_loss: 2.1608 - val_accuracy: 0.3411\n",
      "Epoch 40/50\n",
      "196/196 [==============================] - 8s 41ms/step - loss: 1.5905 - accuracy: 0.5053 - val_loss: 1.8359 - val_accuracy: 0.4449\n",
      "Epoch 41/50\n",
      "196/196 [==============================] - 8s 42ms/step - loss: 1.5820 - accuracy: 0.5069 - val_loss: 1.9674 - val_accuracy: 0.3749\n",
      "Epoch 42/50\n",
      "196/196 [==============================] - 8s 41ms/step - loss: 1.5850 - accuracy: 0.5053 - val_loss: 1.9331 - val_accuracy: 0.3947\n",
      "Epoch 43/50\n",
      "196/196 [==============================] - 8s 41ms/step - loss: 1.5789 - accuracy: 0.5079 - val_loss: 2.0925 - val_accuracy: 0.3674\n",
      "Epoch 44/50\n",
      "196/196 [==============================] - 8s 42ms/step - loss: 1.5766 - accuracy: 0.5129 - val_loss: 1.9211 - val_accuracy: 0.4130\n",
      "Epoch 45/50\n",
      "196/196 [==============================] - 8s 41ms/step - loss: 1.5779 - accuracy: 0.5087 - val_loss: 1.9380 - val_accuracy: 0.3973\n",
      "Epoch 46/50\n",
      "196/196 [==============================] - 8s 41ms/step - loss: 1.5807 - accuracy: 0.5061 - val_loss: 2.0692 - val_accuracy: 0.3537\n",
      "Epoch 47/50\n",
      "196/196 [==============================] - 8s 41ms/step - loss: 1.5801 - accuracy: 0.5093 - val_loss: 1.9793 - val_accuracy: 0.3959\n",
      "Epoch 48/50\n",
      "196/196 [==============================] - 8s 41ms/step - loss: 1.5707 - accuracy: 0.5114 - val_loss: 1.9070 - val_accuracy: 0.4050\n",
      "Epoch 49/50\n",
      "196/196 [==============================] - 8s 41ms/step - loss: 1.5696 - accuracy: 0.5130 - val_loss: 1.9428 - val_accuracy: 0.3990\n",
      "Epoch 50/50\n",
      "196/196 [==============================] - 8s 41ms/step - loss: 1.5778 - accuracy: 0.5122 - val_loss: 1.8395 - val_accuracy: 0.4380\n"
     ]
    }
   ],
   "source": [
    "import tensorflow as tf\n",
    "results = {}\n",
    "\"\"\"Code Here\n",
    "撰寫你的訓練流程並將結果用 dictionary 紀錄\n",
    "\"\"\"\n",
    "model = build_mlp(input_shape=x_train.shape[1:], regularization='l1_l2', \n",
    "                  ratio=0.0001,)\n",
    "model.summary()\n",
    "optimizer = tf.keras.optimizers.Adam(lr=LEARNING_RATE,\n",
    "                                     beta_1=0.9, beta_2=0.999, epsilon=None, decay=0.0, amsgrad=False)\n",
    "model.compile(loss=\"categorical_crossentropy\", metrics=[\"accuracy\"], optimizer=optimizer)\n",
    "\n",
    "model.fit(x_train, y_train, \n",
    "          epochs=EPOCHS, \n",
    "          batch_size=BATCH_SIZE, \n",
    "          validation_data=(x_test, y_test), \n",
    "          shuffle=True)\n",
    "\n",
    "# Collect results\n",
    "train_loss = model.history.history[\"loss\"]\n",
    "valid_loss = model.history.history[\"val_loss\"]\n",
    "train_acc = model.history.history[\"accuracy\"]\n",
    "valid_acc = model.history.history[\"val_accuracy\"]        \n"
   ]
  },
  {
   "cell_type": "code",
   "execution_count": 14,
   "metadata": {
    "scrolled": true
   },
   "outputs": [
    {
     "data": {
      "image/png": "[encoded data removed]",
      "text/plain": [
       "<Figure size 432x288 with 1 Axes>"
      ]
     },
     "metadata": {
      "needs_background": "light"
     },
     "output_type": "display_data"
    },
    {
     "data": {
      "image/png": "[encoded data removed]",
      "text/plain": [
       "<Figure size 432x288 with 1 Axes>"
      ]
     },
     "metadata": {
      "needs_background": "light"
     },
     "output_type": "display_data"
    }
   ],
   "source": [
    "import matplotlib.pyplot as plt\n",
    "%matplotlib inline\n",
    "\n",
    "plt.plot(range(len(train_loss)), train_loss, label=\"train loss\")\n",
    "plt.plot(range(len(valid_loss)), valid_loss, label=\"valid loss\")\n",
    "plt.legend()\n",
    "plt.title(\"Loss\")\n",
    "plt.show()\n",
    "\n",
    "plt.plot(range(len(train_acc)), train_acc, label=\"train accuracy\")\n",
    "plt.plot(range(len(valid_acc)), valid_acc, label=\"valid accuracy\")\n",
    "plt.legend()\n",
    "plt.title(\"Accuracy\")\n",
    "plt.show()"
   ]
  },
  {
   "cell_type": "code",
   "execution_count": null,
   "metadata": {},
   "outputs": [],
   "source": [
    "# 有使用Dropout真的比較不會Overfitting，只用Batch Normalization還是產生Overfitting\n",
    "# 明天試著加入Regularizers看看\n",
    "# 結合Batch Normalization就沒有Overfitting了，看來不用執著單一方式孰優孰劣，混著一起用會更好。"
   ]
  }
 ],
 "metadata": {
  "kernelspec": {
   "display_name": "Python 3",
   "language": "python",
   "name": "python3"
  },
  "language_info": {
   "codemirror_mode": {
    "name": "ipython",
    "version": 3
   },
   "file_extension": ".py",
   "mimetype": "text/x-python",
   "name": "python",
   "nbconvert_exporter": "python",
   "pygments_lexer": "ipython3",
   "version": "3.8.8"
  }
 },
 "nbformat": 4,
 "nbformat_minor": 2
}
