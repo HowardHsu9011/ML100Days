{
 "cells": [
  {
   "cell_type": "markdown",
   "metadata": {},
   "source": [
    "# [作業目標]\n",
    "- 仿造範例的MAE函數, 自己寫一個MSE函數(參考上面公式)"
   ]
  },
  {
   "cell_type": "markdown",
   "metadata": {},
   "source": [
    "# [作業重點]\n",
    "- 注意程式的縮排\n",
    "- 是否能將數學公式, 轉換為 Python 的函式組合? (In[2], Out[2])"
   ]
  },
  {
   "cell_type": "code",
   "execution_count": 19,
   "metadata": {},
   "outputs": [],
   "source": [
    "# 載入基礎套件與代稱\n",
    "import numpy as np\n",
    "import matplotlib.pyplot as plt"
   ]
  },
  {
   "cell_type": "markdown",
   "metadata": {},
   "source": [
    "## 練習時間\n",
    "#### 請寫一個函式用來計算 Mean Square Error\n",
    "$ MSE = \\frac{1}{n}\\sum_{i=1}^{n}{(Y_i - \\hat{Y}_i)^2} $\n",
    "\n",
    "### Hint: [如何取平方](https://googoodesign.gitbooks.io/-ezpython/unit-1.html)"
   ]
  },
  {
   "cell_type": "code",
   "execution_count": 20,
   "metadata": {},
   "outputs": [],
   "source": [
    "def mean_absolute_error(y, yp):\n",
    "    \"\"\"\n",
    "    計算 MAE\n",
    "    Args:\n",
    "        - y: 實際值\n",
    "        - yp: 預測值\n",
    "    Return:\n",
    "        - mae: MAE\n",
    "    \"\"\"\n",
    "    mae = MAE = sum(abs(y - yp)) / len(y)\n",
    "    return mae\n",
    "\n",
    "# 定義 mean_squared_error 這個函數, 計算並傳回 MSE\n",
    "def mean_squared_error(y, yp):\n",
    "    \"\"\"\n",
    "    計算 MSE\n",
    "    Args:\n",
    "        - y: 實際值\n",
    "        - yp: 預測值\n",
    "    Return:\n",
    "        - mse: MSE\n",
    "    請完成這個 Function 後往下執行\n",
    "    \"\"\"\n",
    "    mse = MSE = sum(y-yp)**2/len(y)\n",
    "    return mse"
   ]
  },
  {
   "cell_type": "code",
   "execution_count": 21,
   "metadata": {},
   "outputs": [
    {
     "name": "stdout",
     "output_type": "stream",
     "text": [
      "[  0.   1.   2.   3.   4.   5.   6.   7.   8.   9.  10.  11.  12.  13.\n",
      "  14.  15.  16.  17.  18.  19.  20.  21.  22.  23.  24.  25.  26.  27.\n",
      "  28.  29.  30.  31.  32.  33.  34.  35.  36.  37.  38.  39.  40.  41.\n",
      "  42.  43.  44.  45.  46.  47.  48.  49.  50.  51.  52.  53.  54.  55.\n",
      "  56.  57.  58.  59.  60.  61.  62.  63.  64.  65.  66.  67.  68.  69.\n",
      "  70.  71.  72.  73.  74.  75.  76.  77.  78.  79.  80.  81.  82.  83.\n",
      "  84.  85.  86.  87.  88.  89.  90.  91.  92.  93.  94.  95.  96.  97.\n",
      "  98.  99. 100.]\n",
      "[ -6.49284503  16.87275782 -10.70916591 -18.97066967  12.91493846\n",
      "  16.77141986  12.48398797  39.11638344  30.13276771  28.61136458\n",
      "  36.69787075  17.46596891  35.6363978   16.14723788  42.24247005\n",
      "  53.71746445  65.4987931   65.27603815  31.90037984  61.94999163\n",
      "  79.60816778  54.77448336  57.46458063  72.87709013  71.44098792\n",
      " 101.24050642  66.43550114  77.92089604  91.3139061   90.43603902\n",
      "  86.19388985 109.29949928  84.50438271 139.73066904 100.16032243\n",
      " 106.73719123  88.16409417 136.48120623 118.95039871 163.65276552\n",
      " 137.27607827 124.092064   115.18636725 134.96690107  93.01914587\n",
      " 135.57432078 148.08779104 119.36254562 112.57005418 162.63377783\n",
      " 153.34701307 164.43034332 144.37867072 190.71298197 178.35030234\n",
      " 159.76510581 167.20486967 180.96739291 204.62204923 179.0483453\n",
      " 171.62043062 173.17248103 166.47828883 192.66831712 208.18964612\n",
      " 186.53515498 191.05831958 190.53061233 228.79962633 200.82501494\n",
      " 232.25382877 220.58698393 206.07583775 232.96072482 208.99156903\n",
      " 217.79594585 254.63053746 232.03979217 241.92078495 230.12087478\n",
      " 249.87127976 251.09756346 247.56264726 266.22594089 239.57542576\n",
      " 246.63669337 234.9971623  273.93766281 284.38807185 268.3866264\n",
      " 267.39792363 278.80038471 270.0143297  281.1634185  273.87827804\n",
      " 266.82174474 283.54309219 289.77586278 293.87824767 293.77123075\n",
      " 308.31465201]\n"
     ]
    },
    {
     "data": {
      "image/png": "[encoded data removed]",
      "text/plain": [
       "<Figure size 432x288 with 1 Axes>"
      ]
     },
     "metadata": {
      "needs_background": "light"
     },
     "output_type": "display_data"
    }
   ],
   "source": [
    "# 與範例相同, 不另外解說\n",
    "w = 3\n",
    "b = 0.5\n",
    "x_lin = np.linspace(0, 100, 101)\n",
    "print(x_lin)\n",
    "y = (x_lin + np.random.randn(101) * 5) * w + b\n",
    "print(y)\n",
    "\n",
    "plt.plot(x_lin, y, 'b.', label = 'data points')\n",
    "plt.title(\"Assume we have data points\")\n",
    "plt.legend(loc = 2)\n",
    "plt.show()"
   ]
  },
  {
   "cell_type": "code",
   "execution_count": 22,
   "metadata": {},
   "outputs": [
    {
     "data": {
      "image/png": "[encoded data removed]",
      "text/plain": [
       "<Figure size 432x288 with 1 Axes>"
      ]
     },
     "metadata": {
      "needs_background": "light"
     },
     "output_type": "display_data"
    }
   ],
   "source": [
    "# 與範例相同, 不另外解說\n",
    "y_hat = x_lin * w + b\n",
    "plt.plot(x_lin, y, 'b.', label = 'data')\n",
    "plt.plot(x_lin, y_hat, 'r-', label = 'prediction')\n",
    "plt.title(\"Assume we have data points (And the prediction)\")\n",
    "plt.legend(loc = 2)\n",
    "plt.show()"
   ]
  },
  {
   "cell_type": "code",
   "execution_count": 23,
   "metadata": {},
   "outputs": [
    {
     "name": "stdout",
     "output_type": "stream",
     "text": [
      "The Mean squared error is 113.440\n",
      "The Mean absolute error is 11.451\n"
     ]
    }
   ],
   "source": [
    "# 執行 Function, 確認有沒有正常執行\n",
    "MSE = mean_squared_error(y, y_hat)\n",
    "MAE = mean_absolute_error(y, y_hat)\n",
    "print(\"The Mean squared error is %.3f\" % (MSE))\n",
    "print(\"The Mean absolute error is %.3f\" % (MAE))"
   ]
  },
  {
   "cell_type": "markdown",
   "metadata": {},
   "source": [
    "# [作業2]\n",
    "\n",
    "請上 Kaggle, 在 Competitions 或 Dataset 中找一組競賽或資料並寫下：\n",
    "\n",
    "Stock Exchange Data\n",
    "Daily Index Prices for Multiple Stock Exchanges\n",
    "\n",
    "\n",
    "1. 你選的這組資料為何重要\n",
    "\n",
    "投資人可以藉此觀察同時期不同國家的股市變化與連動性\n",
    "\n",
    "2. 資料從何而來 (tips: 譬如提供者是誰、以什麼方式蒐集)\n",
    "\n",
    "Yahoo Finance\n",
    "\n",
    "3. 蒐集而來的資料型態為何\n",
    "\n",
    "數值 and 表格\n",
    "\n",
    "4. 這組資料想解決的問題如何評估\n",
    "\n",
    "面對同樣的黑天鵝事件，每個市場的反應為何？\n",
    "花多久時間回復到黑天鵝事件前的市場經濟水平？（越快的也許可以解釋為市場更強勁與健康）\n",
    "相對弱的or花相對久的時間才回復的市場，在下一次黑天鵝事件是否也是相對弱？\n",
    "\n",
    "# [作業3]\n",
    "\n",
    "想像你經營一個自由載客車隊，你希望能透過數據分析以提升業績，請你思考並描述你如何規劃整體的分析/解決方案：\n",
    "\n",
    "1. 核心問題為何 (tips：如何定義 「提升業績 & 你的假設」)\n",
    "\n",
    "如何提升公司營收\n",
    "\n",
    "2. 資料從何而來 (tips：哪些資料可能會對你想問的問題產生影響 & 資料如何蒐集)\n",
    "\n",
    "有什麼資料？載客尖峰時間、最多叫車地點、如何叫車（電話or APP）、月營收、司機數量&營收的關係\n",
    "會影響問題的資料是:叫車總次數、各時段可上班的司機數、叫車地點、車輛分布情形\n",
    "\n",
    "假設我有500台車，要最大效率的運用這500台車，我必須知道的資料是，哪些區域是熱區，我們的現有顧客叫車的地點分布情況與密度\n",
    "再把這500台車依其密度撒在對應的區域，而且依據不同時刻叫車地點的歷史密度做調配，這樣可以確保每位司機都能最大化的載到客\n",
    "也就是說同樣是500台車，如果平均分配則達不到這樣的效果\n",
    "所以我必須知道每個時刻的叫客地點分布情況與密度\n",
    "\n",
    "3. 蒐集而來的資料型態為何\n",
    "\n",
    "叫車地點與時間（所以有地圖、數量、時間）\n",
    "資料型態是：數值、圖像\n",
    "\n",
    "4. 你要回答的問題，其如何評估 (tips：你的假設如何驗證)\n",
    "\n",
    "蒐集到叫車地點與時間後\n",
    "我應該要／可以回答的問題：\n",
    "預測什麼時間點應該要派幾台車到什麼地點（以地圖化的方式指派）\n",
    "怎麼證明運用這樣的資料後業績得以提升？\n",
    "觀察 1.平均司機等待叫客時間 2.平均客人叫車後須等待的時間 3.月營收有無上升\n",
    "理論上1、2數值會下降，因效率上升，單位車輛能帶來的收入上升，月營收就會上升"
   ]
  }
 ],
 "metadata": {
  "anaconda-cloud": {},
  "kernelspec": {
   "display_name": "Python 3",
   "language": "python",
   "name": "python3"
  },
  "language_info": {
   "codemirror_mode": {
    "name": "ipython",
    "version": 3
   },
   "file_extension": ".py",
   "mimetype": "text/x-python",
   "name": "python",
   "nbconvert_exporter": "python",
   "pygments_lexer": "ipython3",
   "version": "3.8.8"
  }
 },
 "nbformat": 4,
 "nbformat_minor": 1
}
